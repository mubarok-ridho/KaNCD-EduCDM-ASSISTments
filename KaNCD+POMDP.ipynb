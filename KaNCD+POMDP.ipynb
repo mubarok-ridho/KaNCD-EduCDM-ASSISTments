{
  "nbformat": 4,
  "nbformat_minor": 0,
  "metadata": {
    "colab": {
      "provenance": [],
      "machine_shape": "hm",
      "mount_file_id": "1CrYHb0zX8P0YpDsVqyRwocwYYKhu-pZB",
      "authorship_tag": "ABX9TyNUIpl6n9dBe+pK3q7YvyFE",
      "include_colab_link": true
    },
    "kernelspec": {
      "name": "python3",
      "display_name": "Python 3"
    },
    "language_info": {
      "name": "python"
    }
  },
  "cells": [
    {
      "cell_type": "markdown",
      "metadata": {
        "id": "view-in-github",
        "colab_type": "text"
      },
      "source": [
        "<a href=\"https://colab.research.google.com/github/mubarok-ridho/KaNCD-EduCDM-ASSISTments/blob/main/KaNCD%2BPOMDP.ipynb\" target=\"_parent\"><img src=\"https://colab.research.google.com/assets/colab-badge.svg\" alt=\"Open In Colab\"/></a>"
      ]
    },
    {
      "cell_type": "code",
      "source": [
        "import sys\n",
        "sys.path.append(\"/content/drive/MyDrive/Ridho/EduCDM\")\n",
        "\n",
        "from EduCDM.KaNCD.KaNCD import KaNCD"
      ],
      "metadata": {
        "id": "ZChi3YyvIl3N"
      },
      "execution_count": 11,
      "outputs": []
    },
    {
      "cell_type": "code",
      "source": [
        "import pandas as pd\n",
        "import numpy as np\n",
        "import torch\n",
        "import torch.nn as nn\n",
        "import torch.optim as optim\n",
        "from torch.utils.data import Dataset, DataLoader\n",
        "from sklearn.preprocessing import LabelEncoder, MultiLabelBinarizer\n",
        "from sklearn.model_selection import KFold\n",
        "from sklearn.metrics import roc_auc_score, accuracy_score\n",
        "from tqdm import tqdm\n",
        "import os\n",
        "import matplotlib.pyplot as plt\n",
        "\n",
        "df = pd.read_csv(\"/content/drive/MyDrive/Ridho/Required_data/preprocessed_skillbuilder_new.csv\", encoding = 'latin1')\n",
        "df"
      ],
      "metadata": {
        "colab": {
          "base_uri": "https://localhost:8080/",
          "height": 497
        },
        "id": "QHm8wcwnjnZj",
        "outputId": "08b13315-fa90-45e5-e393-e4705575a66c"
      },
      "execution_count": 12,
      "outputs": [
        {
          "output_type": "stream",
          "name": "stderr",
          "text": [
            "/tmp/ipython-input-3995011957.py:14: DtypeWarning: Columns (16,17) have mixed types. Specify dtype option on import or set low_memory=False.\n",
            "  df = pd.read_csv(\"/content/drive/MyDrive/Ridho/Required_data/preprocessed_skillbuilder_new.csv\", encoding = 'latin1')\n"
          ]
        },
        {
          "output_type": "execute_result",
          "data": {
            "text/plain": [
              "        Unnamed: 0  order_id  assignment_id  user_id  assistment_id  \\\n",
              "0                1  33022537         277618    64525          33139   \n",
              "1                2  33022709         277618    64525          33150   \n",
              "2                3  35450204         220674    70363          33159   \n",
              "3                4  35450295         220674    70363          33110   \n",
              "4                5  35450311         220674    70363          33196   \n",
              "...            ...       ...            ...      ...            ...   \n",
              "340722      401752  38214014         291495    96299          57830   \n",
              "340723      401753  38214016         291495    96299          57843   \n",
              "340724      401754  38214195         291503    96299          34577   \n",
              "340725      401755  38214196         291503    96299          34577   \n",
              "340726      401756  38214198         291503    96299          34577   \n",
              "\n",
              "        problem_id  original  correct  attempt_count  ms_first_response  ...  \\\n",
              "0            51424         1        1              1              32454  ...   \n",
              "1            51435         1        1              1               4922  ...   \n",
              "2            51444         1        0              2              25390  ...   \n",
              "3            51395         1        1              1               4859  ...   \n",
              "4            51481         1        0             14              19813  ...   \n",
              "...            ...       ...      ...            ...                ...  ...   \n",
              "340722      108976         0        1              1              38234  ...   \n",
              "340723      109015         0        1              1               6500  ...   \n",
              "340724       54060         0        1              1              18344  ...   \n",
              "340725       54061         0        1              1              12922  ...   \n",
              "340726       54062         0        0              9              36047  ...   \n",
              "\n",
              "       answer_text  first_action  bottom_hint  opportunity  \\\n",
              "0               26             0          NaN            1   \n",
              "1               55             0          NaN            2   \n",
              "2               88             0          NaN            1   \n",
              "3               41             0          NaN            2   \n",
              "4               65             0          0.0            3   \n",
              "...            ...           ...          ...          ...   \n",
              "340722         NaN             0          NaN           54   \n",
              "340723         NaN             0          NaN           55   \n",
              "340724         0.8             0          NaN           56   \n",
              "340725          -6             0          NaN           57   \n",
              "340726        -6.8             0          0.0           58   \n",
              "\n",
              "       opportunity_original  answer_type_algebra answer_type_choose_1  \\\n",
              "0                       1.0                 True                False   \n",
              "1                       2.0                 True                False   \n",
              "2                       1.0                 True                False   \n",
              "3                       2.0                 True                False   \n",
              "4                       3.0                 True                False   \n",
              "...                     ...                  ...                  ...   \n",
              "340722                  NaN                False                 True   \n",
              "340723                  NaN                False                 True   \n",
              "340724                  NaN                 True                False   \n",
              "340725                  NaN                 True                False   \n",
              "340726                  NaN                 True                False   \n",
              "\n",
              "       answer_type_choose_n  answer_type_fill_in_1  answer_type_open_response  \n",
              "0                     False                  False                      False  \n",
              "1                     False                  False                      False  \n",
              "2                     False                  False                      False  \n",
              "3                     False                  False                      False  \n",
              "4                     False                  False                      False  \n",
              "...                     ...                    ...                        ...  \n",
              "340722                False                  False                      False  \n",
              "340723                False                  False                      False  \n",
              "340724                False                  False                      False  \n",
              "340725                False                  False                      False  \n",
              "340726                False                  False                      False  \n",
              "\n",
              "[340727 rows x 35 columns]"
            ],
            "text/html": [
              "\n",
              "  <div id=\"df-3a168b7b-4ff4-4fdf-8453-d78c72e57709\" class=\"colab-df-container\">\n",
              "    <div>\n",
              "<style scoped>\n",
              "    .dataframe tbody tr th:only-of-type {\n",
              "        vertical-align: middle;\n",
              "    }\n",
              "\n",
              "    .dataframe tbody tr th {\n",
              "        vertical-align: top;\n",
              "    }\n",
              "\n",
              "    .dataframe thead th {\n",
              "        text-align: right;\n",
              "    }\n",
              "</style>\n",
              "<table border=\"1\" class=\"dataframe\">\n",
              "  <thead>\n",
              "    <tr style=\"text-align: right;\">\n",
              "      <th></th>\n",
              "      <th>Unnamed: 0</th>\n",
              "      <th>order_id</th>\n",
              "      <th>assignment_id</th>\n",
              "      <th>user_id</th>\n",
              "      <th>assistment_id</th>\n",
              "      <th>problem_id</th>\n",
              "      <th>original</th>\n",
              "      <th>correct</th>\n",
              "      <th>attempt_count</th>\n",
              "      <th>ms_first_response</th>\n",
              "      <th>...</th>\n",
              "      <th>answer_text</th>\n",
              "      <th>first_action</th>\n",
              "      <th>bottom_hint</th>\n",
              "      <th>opportunity</th>\n",
              "      <th>opportunity_original</th>\n",
              "      <th>answer_type_algebra</th>\n",
              "      <th>answer_type_choose_1</th>\n",
              "      <th>answer_type_choose_n</th>\n",
              "      <th>answer_type_fill_in_1</th>\n",
              "      <th>answer_type_open_response</th>\n",
              "    </tr>\n",
              "  </thead>\n",
              "  <tbody>\n",
              "    <tr>\n",
              "      <th>0</th>\n",
              "      <td>1</td>\n",
              "      <td>33022537</td>\n",
              "      <td>277618</td>\n",
              "      <td>64525</td>\n",
              "      <td>33139</td>\n",
              "      <td>51424</td>\n",
              "      <td>1</td>\n",
              "      <td>1</td>\n",
              "      <td>1</td>\n",
              "      <td>32454</td>\n",
              "      <td>...</td>\n",
              "      <td>26</td>\n",
              "      <td>0</td>\n",
              "      <td>NaN</td>\n",
              "      <td>1</td>\n",
              "      <td>1.0</td>\n",
              "      <td>True</td>\n",
              "      <td>False</td>\n",
              "      <td>False</td>\n",
              "      <td>False</td>\n",
              "      <td>False</td>\n",
              "    </tr>\n",
              "    <tr>\n",
              "      <th>1</th>\n",
              "      <td>2</td>\n",
              "      <td>33022709</td>\n",
              "      <td>277618</td>\n",
              "      <td>64525</td>\n",
              "      <td>33150</td>\n",
              "      <td>51435</td>\n",
              "      <td>1</td>\n",
              "      <td>1</td>\n",
              "      <td>1</td>\n",
              "      <td>4922</td>\n",
              "      <td>...</td>\n",
              "      <td>55</td>\n",
              "      <td>0</td>\n",
              "      <td>NaN</td>\n",
              "      <td>2</td>\n",
              "      <td>2.0</td>\n",
              "      <td>True</td>\n",
              "      <td>False</td>\n",
              "      <td>False</td>\n",
              "      <td>False</td>\n",
              "      <td>False</td>\n",
              "    </tr>\n",
              "    <tr>\n",
              "      <th>2</th>\n",
              "      <td>3</td>\n",
              "      <td>35450204</td>\n",
              "      <td>220674</td>\n",
              "      <td>70363</td>\n",
              "      <td>33159</td>\n",
              "      <td>51444</td>\n",
              "      <td>1</td>\n",
              "      <td>0</td>\n",
              "      <td>2</td>\n",
              "      <td>25390</td>\n",
              "      <td>...</td>\n",
              "      <td>88</td>\n",
              "      <td>0</td>\n",
              "      <td>NaN</td>\n",
              "      <td>1</td>\n",
              "      <td>1.0</td>\n",
              "      <td>True</td>\n",
              "      <td>False</td>\n",
              "      <td>False</td>\n",
              "      <td>False</td>\n",
              "      <td>False</td>\n",
              "    </tr>\n",
              "    <tr>\n",
              "      <th>3</th>\n",
              "      <td>4</td>\n",
              "      <td>35450295</td>\n",
              "      <td>220674</td>\n",
              "      <td>70363</td>\n",
              "      <td>33110</td>\n",
              "      <td>51395</td>\n",
              "      <td>1</td>\n",
              "      <td>1</td>\n",
              "      <td>1</td>\n",
              "      <td>4859</td>\n",
              "      <td>...</td>\n",
              "      <td>41</td>\n",
              "      <td>0</td>\n",
              "      <td>NaN</td>\n",
              "      <td>2</td>\n",
              "      <td>2.0</td>\n",
              "      <td>True</td>\n",
              "      <td>False</td>\n",
              "      <td>False</td>\n",
              "      <td>False</td>\n",
              "      <td>False</td>\n",
              "    </tr>\n",
              "    <tr>\n",
              "      <th>4</th>\n",
              "      <td>5</td>\n",
              "      <td>35450311</td>\n",
              "      <td>220674</td>\n",
              "      <td>70363</td>\n",
              "      <td>33196</td>\n",
              "      <td>51481</td>\n",
              "      <td>1</td>\n",
              "      <td>0</td>\n",
              "      <td>14</td>\n",
              "      <td>19813</td>\n",
              "      <td>...</td>\n",
              "      <td>65</td>\n",
              "      <td>0</td>\n",
              "      <td>0.0</td>\n",
              "      <td>3</td>\n",
              "      <td>3.0</td>\n",
              "      <td>True</td>\n",
              "      <td>False</td>\n",
              "      <td>False</td>\n",
              "      <td>False</td>\n",
              "      <td>False</td>\n",
              "    </tr>\n",
              "    <tr>\n",
              "      <th>...</th>\n",
              "      <td>...</td>\n",
              "      <td>...</td>\n",
              "      <td>...</td>\n",
              "      <td>...</td>\n",
              "      <td>...</td>\n",
              "      <td>...</td>\n",
              "      <td>...</td>\n",
              "      <td>...</td>\n",
              "      <td>...</td>\n",
              "      <td>...</td>\n",
              "      <td>...</td>\n",
              "      <td>...</td>\n",
              "      <td>...</td>\n",
              "      <td>...</td>\n",
              "      <td>...</td>\n",
              "      <td>...</td>\n",
              "      <td>...</td>\n",
              "      <td>...</td>\n",
              "      <td>...</td>\n",
              "      <td>...</td>\n",
              "      <td>...</td>\n",
              "    </tr>\n",
              "    <tr>\n",
              "      <th>340722</th>\n",
              "      <td>401752</td>\n",
              "      <td>38214014</td>\n",
              "      <td>291495</td>\n",
              "      <td>96299</td>\n",
              "      <td>57830</td>\n",
              "      <td>108976</td>\n",
              "      <td>0</td>\n",
              "      <td>1</td>\n",
              "      <td>1</td>\n",
              "      <td>38234</td>\n",
              "      <td>...</td>\n",
              "      <td>NaN</td>\n",
              "      <td>0</td>\n",
              "      <td>NaN</td>\n",
              "      <td>54</td>\n",
              "      <td>NaN</td>\n",
              "      <td>False</td>\n",
              "      <td>True</td>\n",
              "      <td>False</td>\n",
              "      <td>False</td>\n",
              "      <td>False</td>\n",
              "    </tr>\n",
              "    <tr>\n",
              "      <th>340723</th>\n",
              "      <td>401753</td>\n",
              "      <td>38214016</td>\n",
              "      <td>291495</td>\n",
              "      <td>96299</td>\n",
              "      <td>57843</td>\n",
              "      <td>109015</td>\n",
              "      <td>0</td>\n",
              "      <td>1</td>\n",
              "      <td>1</td>\n",
              "      <td>6500</td>\n",
              "      <td>...</td>\n",
              "      <td>NaN</td>\n",
              "      <td>0</td>\n",
              "      <td>NaN</td>\n",
              "      <td>55</td>\n",
              "      <td>NaN</td>\n",
              "      <td>False</td>\n",
              "      <td>True</td>\n",
              "      <td>False</td>\n",
              "      <td>False</td>\n",
              "      <td>False</td>\n",
              "    </tr>\n",
              "    <tr>\n",
              "      <th>340724</th>\n",
              "      <td>401754</td>\n",
              "      <td>38214195</td>\n",
              "      <td>291503</td>\n",
              "      <td>96299</td>\n",
              "      <td>34577</td>\n",
              "      <td>54060</td>\n",
              "      <td>0</td>\n",
              "      <td>1</td>\n",
              "      <td>1</td>\n",
              "      <td>18344</td>\n",
              "      <td>...</td>\n",
              "      <td>0.8</td>\n",
              "      <td>0</td>\n",
              "      <td>NaN</td>\n",
              "      <td>56</td>\n",
              "      <td>NaN</td>\n",
              "      <td>True</td>\n",
              "      <td>False</td>\n",
              "      <td>False</td>\n",
              "      <td>False</td>\n",
              "      <td>False</td>\n",
              "    </tr>\n",
              "    <tr>\n",
              "      <th>340725</th>\n",
              "      <td>401755</td>\n",
              "      <td>38214196</td>\n",
              "      <td>291503</td>\n",
              "      <td>96299</td>\n",
              "      <td>34577</td>\n",
              "      <td>54061</td>\n",
              "      <td>0</td>\n",
              "      <td>1</td>\n",
              "      <td>1</td>\n",
              "      <td>12922</td>\n",
              "      <td>...</td>\n",
              "      <td>-6</td>\n",
              "      <td>0</td>\n",
              "      <td>NaN</td>\n",
              "      <td>57</td>\n",
              "      <td>NaN</td>\n",
              "      <td>True</td>\n",
              "      <td>False</td>\n",
              "      <td>False</td>\n",
              "      <td>False</td>\n",
              "      <td>False</td>\n",
              "    </tr>\n",
              "    <tr>\n",
              "      <th>340726</th>\n",
              "      <td>401756</td>\n",
              "      <td>38214198</td>\n",
              "      <td>291503</td>\n",
              "      <td>96299</td>\n",
              "      <td>34577</td>\n",
              "      <td>54062</td>\n",
              "      <td>0</td>\n",
              "      <td>0</td>\n",
              "      <td>9</td>\n",
              "      <td>36047</td>\n",
              "      <td>...</td>\n",
              "      <td>-6.8</td>\n",
              "      <td>0</td>\n",
              "      <td>0.0</td>\n",
              "      <td>58</td>\n",
              "      <td>NaN</td>\n",
              "      <td>True</td>\n",
              "      <td>False</td>\n",
              "      <td>False</td>\n",
              "      <td>False</td>\n",
              "      <td>False</td>\n",
              "    </tr>\n",
              "  </tbody>\n",
              "</table>\n",
              "<p>340727 rows × 35 columns</p>\n",
              "</div>\n",
              "    <div class=\"colab-df-buttons\">\n",
              "\n",
              "  <div class=\"colab-df-container\">\n",
              "    <button class=\"colab-df-convert\" onclick=\"convertToInteractive('df-3a168b7b-4ff4-4fdf-8453-d78c72e57709')\"\n",
              "            title=\"Convert this dataframe to an interactive table.\"\n",
              "            style=\"display:none;\">\n",
              "\n",
              "  <svg xmlns=\"http://www.w3.org/2000/svg\" height=\"24px\" viewBox=\"0 -960 960 960\">\n",
              "    <path d=\"M120-120v-720h720v720H120Zm60-500h600v-160H180v160Zm220 220h160v-160H400v160Zm0 220h160v-160H400v160ZM180-400h160v-160H180v160Zm440 0h160v-160H620v160ZM180-180h160v-160H180v160Zm440 0h160v-160H620v160Z\"/>\n",
              "  </svg>\n",
              "    </button>\n",
              "\n",
              "  <style>\n",
              "    .colab-df-container {\n",
              "      display:flex;\n",
              "      gap: 12px;\n",
              "    }\n",
              "\n",
              "    .colab-df-convert {\n",
              "      background-color: #E8F0FE;\n",
              "      border: none;\n",
              "      border-radius: 50%;\n",
              "      cursor: pointer;\n",
              "      display: none;\n",
              "      fill: #1967D2;\n",
              "      height: 32px;\n",
              "      padding: 0 0 0 0;\n",
              "      width: 32px;\n",
              "    }\n",
              "\n",
              "    .colab-df-convert:hover {\n",
              "      background-color: #E2EBFA;\n",
              "      box-shadow: 0px 1px 2px rgba(60, 64, 67, 0.3), 0px 1px 3px 1px rgba(60, 64, 67, 0.15);\n",
              "      fill: #174EA6;\n",
              "    }\n",
              "\n",
              "    .colab-df-buttons div {\n",
              "      margin-bottom: 4px;\n",
              "    }\n",
              "\n",
              "    [theme=dark] .colab-df-convert {\n",
              "      background-color: #3B4455;\n",
              "      fill: #D2E3FC;\n",
              "    }\n",
              "\n",
              "    [theme=dark] .colab-df-convert:hover {\n",
              "      background-color: #434B5C;\n",
              "      box-shadow: 0px 1px 3px 1px rgba(0, 0, 0, 0.15);\n",
              "      filter: drop-shadow(0px 1px 2px rgba(0, 0, 0, 0.3));\n",
              "      fill: #FFFFFF;\n",
              "    }\n",
              "  </style>\n",
              "\n",
              "    <script>\n",
              "      const buttonEl =\n",
              "        document.querySelector('#df-3a168b7b-4ff4-4fdf-8453-d78c72e57709 button.colab-df-convert');\n",
              "      buttonEl.style.display =\n",
              "        google.colab.kernel.accessAllowed ? 'block' : 'none';\n",
              "\n",
              "      async function convertToInteractive(key) {\n",
              "        const element = document.querySelector('#df-3a168b7b-4ff4-4fdf-8453-d78c72e57709');\n",
              "        const dataTable =\n",
              "          await google.colab.kernel.invokeFunction('convertToInteractive',\n",
              "                                                    [key], {});\n",
              "        if (!dataTable) return;\n",
              "\n",
              "        const docLinkHtml = 'Like what you see? Visit the ' +\n",
              "          '<a target=\"_blank\" href=https://colab.research.google.com/notebooks/data_table.ipynb>data table notebook</a>'\n",
              "          + ' to learn more about interactive tables.';\n",
              "        element.innerHTML = '';\n",
              "        dataTable['output_type'] = 'display_data';\n",
              "        await google.colab.output.renderOutput(dataTable, element);\n",
              "        const docLink = document.createElement('div');\n",
              "        docLink.innerHTML = docLinkHtml;\n",
              "        element.appendChild(docLink);\n",
              "      }\n",
              "    </script>\n",
              "  </div>\n",
              "\n",
              "\n",
              "    <div id=\"df-2602d2b1-201b-44fa-a1ee-431d7ac8c21d\">\n",
              "      <button class=\"colab-df-quickchart\" onclick=\"quickchart('df-2602d2b1-201b-44fa-a1ee-431d7ac8c21d')\"\n",
              "                title=\"Suggest charts\"\n",
              "                style=\"display:none;\">\n",
              "\n",
              "<svg xmlns=\"http://www.w3.org/2000/svg\" height=\"24px\"viewBox=\"0 0 24 24\"\n",
              "     width=\"24px\">\n",
              "    <g>\n",
              "        <path d=\"M19 3H5c-1.1 0-2 .9-2 2v14c0 1.1.9 2 2 2h14c1.1 0 2-.9 2-2V5c0-1.1-.9-2-2-2zM9 17H7v-7h2v7zm4 0h-2V7h2v10zm4 0h-2v-4h2v4z\"/>\n",
              "    </g>\n",
              "</svg>\n",
              "      </button>\n",
              "\n",
              "<style>\n",
              "  .colab-df-quickchart {\n",
              "      --bg-color: #E8F0FE;\n",
              "      --fill-color: #1967D2;\n",
              "      --hover-bg-color: #E2EBFA;\n",
              "      --hover-fill-color: #174EA6;\n",
              "      --disabled-fill-color: #AAA;\n",
              "      --disabled-bg-color: #DDD;\n",
              "  }\n",
              "\n",
              "  [theme=dark] .colab-df-quickchart {\n",
              "      --bg-color: #3B4455;\n",
              "      --fill-color: #D2E3FC;\n",
              "      --hover-bg-color: #434B5C;\n",
              "      --hover-fill-color: #FFFFFF;\n",
              "      --disabled-bg-color: #3B4455;\n",
              "      --disabled-fill-color: #666;\n",
              "  }\n",
              "\n",
              "  .colab-df-quickchart {\n",
              "    background-color: var(--bg-color);\n",
              "    border: none;\n",
              "    border-radius: 50%;\n",
              "    cursor: pointer;\n",
              "    display: none;\n",
              "    fill: var(--fill-color);\n",
              "    height: 32px;\n",
              "    padding: 0;\n",
              "    width: 32px;\n",
              "  }\n",
              "\n",
              "  .colab-df-quickchart:hover {\n",
              "    background-color: var(--hover-bg-color);\n",
              "    box-shadow: 0 1px 2px rgba(60, 64, 67, 0.3), 0 1px 3px 1px rgba(60, 64, 67, 0.15);\n",
              "    fill: var(--button-hover-fill-color);\n",
              "  }\n",
              "\n",
              "  .colab-df-quickchart-complete:disabled,\n",
              "  .colab-df-quickchart-complete:disabled:hover {\n",
              "    background-color: var(--disabled-bg-color);\n",
              "    fill: var(--disabled-fill-color);\n",
              "    box-shadow: none;\n",
              "  }\n",
              "\n",
              "  .colab-df-spinner {\n",
              "    border: 2px solid var(--fill-color);\n",
              "    border-color: transparent;\n",
              "    border-bottom-color: var(--fill-color);\n",
              "    animation:\n",
              "      spin 1s steps(1) infinite;\n",
              "  }\n",
              "\n",
              "  @keyframes spin {\n",
              "    0% {\n",
              "      border-color: transparent;\n",
              "      border-bottom-color: var(--fill-color);\n",
              "      border-left-color: var(--fill-color);\n",
              "    }\n",
              "    20% {\n",
              "      border-color: transparent;\n",
              "      border-left-color: var(--fill-color);\n",
              "      border-top-color: var(--fill-color);\n",
              "    }\n",
              "    30% {\n",
              "      border-color: transparent;\n",
              "      border-left-color: var(--fill-color);\n",
              "      border-top-color: var(--fill-color);\n",
              "      border-right-color: var(--fill-color);\n",
              "    }\n",
              "    40% {\n",
              "      border-color: transparent;\n",
              "      border-right-color: var(--fill-color);\n",
              "      border-top-color: var(--fill-color);\n",
              "    }\n",
              "    60% {\n",
              "      border-color: transparent;\n",
              "      border-right-color: var(--fill-color);\n",
              "    }\n",
              "    80% {\n",
              "      border-color: transparent;\n",
              "      border-right-color: var(--fill-color);\n",
              "      border-bottom-color: var(--fill-color);\n",
              "    }\n",
              "    90% {\n",
              "      border-color: transparent;\n",
              "      border-bottom-color: var(--fill-color);\n",
              "    }\n",
              "  }\n",
              "</style>\n",
              "\n",
              "      <script>\n",
              "        async function quickchart(key) {\n",
              "          const quickchartButtonEl =\n",
              "            document.querySelector('#' + key + ' button');\n",
              "          quickchartButtonEl.disabled = true;  // To prevent multiple clicks.\n",
              "          quickchartButtonEl.classList.add('colab-df-spinner');\n",
              "          try {\n",
              "            const charts = await google.colab.kernel.invokeFunction(\n",
              "                'suggestCharts', [key], {});\n",
              "          } catch (error) {\n",
              "            console.error('Error during call to suggestCharts:', error);\n",
              "          }\n",
              "          quickchartButtonEl.classList.remove('colab-df-spinner');\n",
              "          quickchartButtonEl.classList.add('colab-df-quickchart-complete');\n",
              "        }\n",
              "        (() => {\n",
              "          let quickchartButtonEl =\n",
              "            document.querySelector('#df-2602d2b1-201b-44fa-a1ee-431d7ac8c21d button');\n",
              "          quickchartButtonEl.style.display =\n",
              "            google.colab.kernel.accessAllowed ? 'block' : 'none';\n",
              "        })();\n",
              "      </script>\n",
              "    </div>\n",
              "\n",
              "  <div id=\"id_354b35c0-9f2f-471f-80c6-5d54e587d0a1\">\n",
              "    <style>\n",
              "      .colab-df-generate {\n",
              "        background-color: #E8F0FE;\n",
              "        border: none;\n",
              "        border-radius: 50%;\n",
              "        cursor: pointer;\n",
              "        display: none;\n",
              "        fill: #1967D2;\n",
              "        height: 32px;\n",
              "        padding: 0 0 0 0;\n",
              "        width: 32px;\n",
              "      }\n",
              "\n",
              "      .colab-df-generate:hover {\n",
              "        background-color: #E2EBFA;\n",
              "        box-shadow: 0px 1px 2px rgba(60, 64, 67, 0.3), 0px 1px 3px 1px rgba(60, 64, 67, 0.15);\n",
              "        fill: #174EA6;\n",
              "      }\n",
              "\n",
              "      [theme=dark] .colab-df-generate {\n",
              "        background-color: #3B4455;\n",
              "        fill: #D2E3FC;\n",
              "      }\n",
              "\n",
              "      [theme=dark] .colab-df-generate:hover {\n",
              "        background-color: #434B5C;\n",
              "        box-shadow: 0px 1px 3px 1px rgba(0, 0, 0, 0.15);\n",
              "        filter: drop-shadow(0px 1px 2px rgba(0, 0, 0, 0.3));\n",
              "        fill: #FFFFFF;\n",
              "      }\n",
              "    </style>\n",
              "    <button class=\"colab-df-generate\" onclick=\"generateWithVariable('df')\"\n",
              "            title=\"Generate code using this dataframe.\"\n",
              "            style=\"display:none;\">\n",
              "\n",
              "  <svg xmlns=\"http://www.w3.org/2000/svg\" height=\"24px\"viewBox=\"0 0 24 24\"\n",
              "       width=\"24px\">\n",
              "    <path d=\"M7,19H8.4L18.45,9,17,7.55,7,17.6ZM5,21V16.75L18.45,3.32a2,2,0,0,1,2.83,0l1.4,1.43a1.91,1.91,0,0,1,.58,1.4,1.91,1.91,0,0,1-.58,1.4L9.25,21ZM18.45,9,17,7.55Zm-12,3A5.31,5.31,0,0,0,4.9,8.1,5.31,5.31,0,0,0,1,6.5,5.31,5.31,0,0,0,4.9,4.9,5.31,5.31,0,0,0,6.5,1,5.31,5.31,0,0,0,8.1,4.9,5.31,5.31,0,0,0,12,6.5,5.46,5.46,0,0,0,6.5,12Z\"/>\n",
              "  </svg>\n",
              "    </button>\n",
              "    <script>\n",
              "      (() => {\n",
              "      const buttonEl =\n",
              "        document.querySelector('#id_354b35c0-9f2f-471f-80c6-5d54e587d0a1 button.colab-df-generate');\n",
              "      buttonEl.style.display =\n",
              "        google.colab.kernel.accessAllowed ? 'block' : 'none';\n",
              "\n",
              "      buttonEl.onclick = () => {\n",
              "        google.colab.notebook.generateWithVariable('df');\n",
              "      }\n",
              "      })();\n",
              "    </script>\n",
              "  </div>\n",
              "\n",
              "    </div>\n",
              "  </div>\n"
            ],
            "application/vnd.google.colaboratory.intrinsic+json": {
              "type": "dataframe",
              "variable_name": "df"
            }
          },
          "metadata": {},
          "execution_count": 12
        }
      ]
    },
    {
      "cell_type": "code",
      "source": [
        "import numpy as np\n",
        "\n",
        "# load langsung dari file .npy\n",
        "Q_matrix = np.load(\"/content/drive/MyDrive/Ridho/Required_data/Newest_Q.npy\")\n",
        "\n",
        "# pastikan tipe dan bentuknya sesuai\n",
        "Q_matrix = torch.tensor(Q_matrix, dtype=torch.float32)\n",
        "\n",
        "print(\"✅ Q-matrix loaded successfully!\")\n",
        "print(\"Shape:\", Q_matrix.shape)"
      ],
      "metadata": {
        "colab": {
          "base_uri": "https://localhost:8080/"
        },
        "id": "2d8fdY-Tb7jm",
        "outputId": "f20048d9-d966-488a-f3a7-843246acf3df"
      },
      "execution_count": 13,
      "outputs": [
        {
          "output_type": "stream",
          "name": "stdout",
          "text": [
            "✅ Q-matrix loaded successfully!\n",
            "Shape: torch.Size([26642, 125])\n"
          ]
        }
      ]
    },
    {
      "cell_type": "code",
      "source": [
        "print(\"Min:\", Q_matrix.min().item(), \"| Max:\", Q_matrix.max().item())\n",
        "print(\"Unique values:\", torch.unique(Q_matrix))"
      ],
      "metadata": {
        "colab": {
          "base_uri": "https://localhost:8080/"
        },
        "id": "gALFsdItigL6",
        "outputId": "965b17d2-29b7-466f-bb9e-9cb09d639ffe"
      },
      "execution_count": 14,
      "outputs": [
        {
          "output_type": "stream",
          "name": "stdout",
          "text": [
            "Min: 0.0 | Max: 1.0\n",
            "Unique values: tensor([0., 1.])\n"
          ]
        }
      ]
    },
    {
      "cell_type": "code",
      "source": [
        "# === 1. Import ===\n",
        "import pandas as pd\n",
        "import numpy as np\n",
        "import torch\n",
        "import torch.nn as nn\n",
        "import torch.optim as optim\n",
        "from torch.utils.data import Dataset, DataLoader\n",
        "from sklearn.preprocessing import LabelEncoder, MultiLabelBinarizer\n",
        "from sklearn.model_selection import KFold\n",
        "from sklearn.metrics import roc_auc_score, accuracy_score\n",
        "from tqdm import tqdm\n",
        "import os\n",
        "import matplotlib.pyplot as plt\n",
        "\n",
        "device = \"cuda\" if torch.cuda.is_available() else \"cpu\"\n",
        "print(\"Device:\", device)\n",
        "\n",
        "\n",
        "\n",
        "# === 3. Dataset ===\n",
        "class KaNCDDataset(Dataset):\n",
        "    def __init__(self, df, Q_matrix):\n",
        "        self.user_id = torch.tensor(df[\"user_id\"].values, dtype=torch.long)\n",
        "        self.item_id = torch.tensor(df[\"problem_id\"].values, dtype=torch.long)\n",
        "        self.label = torch.tensor(df[\"correct\"].values, dtype=torch.float32)\n",
        "        self.knowledge_emb = torch.tensor(Q_matrix[df[\"problem_id\"].values], dtype=torch.float32)\n",
        "\n",
        "    def __len__(self):\n",
        "        return len(self.user_id)\n",
        "\n",
        "    def __getitem__(self, idx):\n",
        "        return self.user_id[idx], self.item_id[idx], self.knowledge_emb[idx], self.label[idx]\n",
        "\n",
        "# === 4. Training setup ===\n",
        "batch_size = 64\n",
        "epochs = 10\n",
        "lr = 0.002\n",
        "save_dir = \"/content/drive/MyDrive/Epri/KaNCD/checkpoints\"\n",
        "os.makedirs(save_dir, exist_ok=True)\n",
        "\n",
        "def save_model_checkpoint(model, optimizer, fold, epochs, auc, accuracy, save_dir):\n",
        "    checkpoint_path = os.path.join(save_dir, f\"kan_cd_fold{fold}.pt\")\n",
        "    torch.save({\n",
        "        'fold': fold,\n",
        "        'model_state_dict': model.net.state_dict(),\n",
        "        'optimizer_state_dict': optimizer.state_dict(),\n",
        "        'epochs': epochs,\n",
        "        'auc': auc,\n",
        "        'accuracy': accuracy,\n",
        "    }, checkpoint_path)\n",
        "    print(f\"✅ Model fold {fold} saved to {checkpoint_path}\")\n",
        "\n",
        "# === 5. Cross-validation training ===\n",
        "kf = KFold(n_splits=5, shuffle=True, random_state=42)\n",
        "loss_histories, auc_folds, acc_folds = [], [], []\n",
        "\n",
        "for fold, (train_idx, val_idx) in enumerate(kf.split(df)):\n",
        "    print(f\"\\n📚 Fold {fold+1}\")\n",
        "    train_df, val_df = df.iloc[train_idx], df.iloc[val_idx]\n",
        "    train_loader = DataLoader(KaNCDDataset(train_df, Q_matrix), batch_size=batch_size, shuffle=True)\n",
        "    val_loader = DataLoader(KaNCDDataset(val_df, Q_matrix), batch_size=batch_size, shuffle=False)\n",
        "\n",
        "    # model\n",
        "    model = KaNCD(exer_n=n_items, student_n=n_students, knowledge_n=n_skills, dim=50, mf_type=\"gmf\")\n",
        "    model.net = model.net.to(device)\n",
        "\n",
        "    loss_fn = nn.BCELoss()\n",
        "    optimizer = optim.Adam(model.net.parameters(), lr=lr)\n",
        "\n",
        "    fold_losses = []\n",
        "    for epoch in range(epochs):\n",
        "        model.net.train()\n",
        "        epoch_losses = []\n",
        "        for user_ids, item_ids, skill_vecs, labels in tqdm(train_loader, desc=f\"Epoch {epoch+1}\"):\n",
        "            user_ids, item_ids, skill_vecs, labels = user_ids.to(device), item_ids.to(device), skill_vecs.to(device), labels.to(device)\n",
        "            preds = model.net(user_ids, item_ids, skill_vecs)\n",
        "            loss = loss_fn(preds, labels)\n",
        "            optimizer.zero_grad()\n",
        "            loss.backward()\n",
        "            optimizer.step()\n",
        "            epoch_losses.append(loss.item())\n",
        "\n",
        "        avg_loss = np.mean(epoch_losses)\n",
        "        fold_losses.append(avg_loss)\n",
        "        print(f\"[Epoch {epoch+1}] Loss: {avg_loss:.6f}\")\n",
        "\n",
        "        # validation\n",
        "        model.net.eval()\n",
        "        y_true, y_pred = [], []\n",
        "        with torch.no_grad():\n",
        "            for user_ids, item_ids, skill_vecs, labels in val_loader:\n",
        "                user_ids, item_ids, skill_vecs, labels = user_ids.to(device), item_ids.to(device), skill_vecs.to(device), labels.to(device)\n",
        "                preds = model.net(user_ids, item_ids, skill_vecs)\n",
        "                y_pred.extend(preds.cpu().numpy())\n",
        "                y_true.extend(labels.cpu().numpy())\n",
        "\n",
        "        auc = roc_auc_score(y_true, y_pred)\n",
        "        acc = accuracy_score(y_true, np.array(y_pred) >= 0.5)\n",
        "        print(f\"[Epoch {epoch+1}] AUC: {auc:.4f}, Accuracy: {acc:.4f}\")\n",
        "\n",
        "    loss_histories.append(fold_losses)\n",
        "    auc_folds.append(auc)\n",
        "    acc_folds.append(acc)\n",
        "    save_model_checkpoint(model, optimizer, fold+1, epochs, auc, acc, save_dir)\n",
        "\n",
        "# === 6. Summary ===\n",
        "print(\"\\n=== 5-Fold CV Summary ===\")\n",
        "print(f\"Average AUC: {np.mean(auc_folds):.4f}\")\n",
        "print(f\"Average Accuracy: {np.mean(acc_folds):.4f}\")\n",
        "\n",
        "# === 7. Visualization ===\n",
        "plt.figure(figsize=(8,5))\n",
        "for i, losses in enumerate(loss_histories):\n",
        "    plt.plot(range(1, epochs+1), losses, marker='o', label=f\"Fold {i+1}\")\n",
        "plt.title(\"KaNCD Loss History (5-Fold CV)\")\n",
        "plt.xlabel(\"Epoch\"); plt.ylabel(\"Loss\"); plt.legend(); plt.grid(True); plt.show()"
      ],
      "metadata": {
        "id": "pJwjMRU6tr30",
        "outputId": "c8d97d33-68f6-453c-8e26-a351637079a3",
        "colab": {
          "base_uri": "https://localhost:8080/",
          "height": 402
        }
      },
      "execution_count": 15,
      "outputs": [
        {
          "output_type": "stream",
          "name": "stdout",
          "text": [
            "Device: cpu\n",
            "\n",
            "📚 Fold 1\n"
          ]
        },
        {
          "output_type": "error",
          "ename": "IndexError",
          "evalue": "index 84931 is out of bounds for dimension 0 with size 26642",
          "traceback": [
            "\u001b[0;31m---------------------------------------------------------------------------\u001b[0m",
            "\u001b[0;31mIndexError\u001b[0m                                Traceback (most recent call last)",
            "\u001b[0;32m/tmp/ipython-input-2030965437.py\u001b[0m in \u001b[0;36m<cell line: 0>\u001b[0;34m()\u001b[0m\n\u001b[1;32m     58\u001b[0m     \u001b[0mprint\u001b[0m\u001b[0;34m(\u001b[0m\u001b[0;34mf\"\\n📚 Fold {fold+1}\"\u001b[0m\u001b[0;34m)\u001b[0m\u001b[0;34m\u001b[0m\u001b[0;34m\u001b[0m\u001b[0m\n\u001b[1;32m     59\u001b[0m     \u001b[0mtrain_df\u001b[0m\u001b[0;34m,\u001b[0m \u001b[0mval_df\u001b[0m \u001b[0;34m=\u001b[0m \u001b[0mdf\u001b[0m\u001b[0;34m.\u001b[0m\u001b[0miloc\u001b[0m\u001b[0;34m[\u001b[0m\u001b[0mtrain_idx\u001b[0m\u001b[0;34m]\u001b[0m\u001b[0;34m,\u001b[0m \u001b[0mdf\u001b[0m\u001b[0;34m.\u001b[0m\u001b[0miloc\u001b[0m\u001b[0;34m[\u001b[0m\u001b[0mval_idx\u001b[0m\u001b[0;34m]\u001b[0m\u001b[0;34m\u001b[0m\u001b[0;34m\u001b[0m\u001b[0m\n\u001b[0;32m---> 60\u001b[0;31m     \u001b[0mtrain_loader\u001b[0m \u001b[0;34m=\u001b[0m \u001b[0mDataLoader\u001b[0m\u001b[0;34m(\u001b[0m\u001b[0mKaNCDDataset\u001b[0m\u001b[0;34m(\u001b[0m\u001b[0mtrain_df\u001b[0m\u001b[0;34m,\u001b[0m \u001b[0mQ_matrix\u001b[0m\u001b[0;34m)\u001b[0m\u001b[0;34m,\u001b[0m \u001b[0mbatch_size\u001b[0m\u001b[0;34m=\u001b[0m\u001b[0mbatch_size\u001b[0m\u001b[0;34m,\u001b[0m \u001b[0mshuffle\u001b[0m\u001b[0;34m=\u001b[0m\u001b[0;32mTrue\u001b[0m\u001b[0;34m)\u001b[0m\u001b[0;34m\u001b[0m\u001b[0;34m\u001b[0m\u001b[0m\n\u001b[0m\u001b[1;32m     61\u001b[0m     \u001b[0mval_loader\u001b[0m \u001b[0;34m=\u001b[0m \u001b[0mDataLoader\u001b[0m\u001b[0;34m(\u001b[0m\u001b[0mKaNCDDataset\u001b[0m\u001b[0;34m(\u001b[0m\u001b[0mval_df\u001b[0m\u001b[0;34m,\u001b[0m \u001b[0mQ_matrix\u001b[0m\u001b[0;34m)\u001b[0m\u001b[0;34m,\u001b[0m \u001b[0mbatch_size\u001b[0m\u001b[0;34m=\u001b[0m\u001b[0mbatch_size\u001b[0m\u001b[0;34m,\u001b[0m \u001b[0mshuffle\u001b[0m\u001b[0;34m=\u001b[0m\u001b[0;32mFalse\u001b[0m\u001b[0;34m)\u001b[0m\u001b[0;34m\u001b[0m\u001b[0;34m\u001b[0m\u001b[0m\n\u001b[1;32m     62\u001b[0m \u001b[0;34m\u001b[0m\u001b[0m\n",
            "\u001b[0;32m/tmp/ipython-input-2030965437.py\u001b[0m in \u001b[0;36m__init__\u001b[0;34m(self, df, Q_matrix)\u001b[0m\n\u001b[1;32m     24\u001b[0m         \u001b[0mself\u001b[0m\u001b[0;34m.\u001b[0m\u001b[0mitem_id\u001b[0m \u001b[0;34m=\u001b[0m \u001b[0mtorch\u001b[0m\u001b[0;34m.\u001b[0m\u001b[0mtensor\u001b[0m\u001b[0;34m(\u001b[0m\u001b[0mdf\u001b[0m\u001b[0;34m[\u001b[0m\u001b[0;34m\"problem_id\"\u001b[0m\u001b[0;34m]\u001b[0m\u001b[0;34m.\u001b[0m\u001b[0mvalues\u001b[0m\u001b[0;34m,\u001b[0m \u001b[0mdtype\u001b[0m\u001b[0;34m=\u001b[0m\u001b[0mtorch\u001b[0m\u001b[0;34m.\u001b[0m\u001b[0mlong\u001b[0m\u001b[0;34m)\u001b[0m\u001b[0;34m\u001b[0m\u001b[0;34m\u001b[0m\u001b[0m\n\u001b[1;32m     25\u001b[0m         \u001b[0mself\u001b[0m\u001b[0;34m.\u001b[0m\u001b[0mlabel\u001b[0m \u001b[0;34m=\u001b[0m \u001b[0mtorch\u001b[0m\u001b[0;34m.\u001b[0m\u001b[0mtensor\u001b[0m\u001b[0;34m(\u001b[0m\u001b[0mdf\u001b[0m\u001b[0;34m[\u001b[0m\u001b[0;34m\"correct\"\u001b[0m\u001b[0;34m]\u001b[0m\u001b[0;34m.\u001b[0m\u001b[0mvalues\u001b[0m\u001b[0;34m,\u001b[0m \u001b[0mdtype\u001b[0m\u001b[0;34m=\u001b[0m\u001b[0mtorch\u001b[0m\u001b[0;34m.\u001b[0m\u001b[0mfloat32\u001b[0m\u001b[0;34m)\u001b[0m\u001b[0;34m\u001b[0m\u001b[0;34m\u001b[0m\u001b[0m\n\u001b[0;32m---> 26\u001b[0;31m         \u001b[0mself\u001b[0m\u001b[0;34m.\u001b[0m\u001b[0mknowledge_emb\u001b[0m \u001b[0;34m=\u001b[0m \u001b[0mtorch\u001b[0m\u001b[0;34m.\u001b[0m\u001b[0mtensor\u001b[0m\u001b[0;34m(\u001b[0m\u001b[0mQ_matrix\u001b[0m\u001b[0;34m[\u001b[0m\u001b[0mdf\u001b[0m\u001b[0;34m[\u001b[0m\u001b[0;34m\"problem_id\"\u001b[0m\u001b[0;34m]\u001b[0m\u001b[0;34m.\u001b[0m\u001b[0mvalues\u001b[0m\u001b[0;34m]\u001b[0m\u001b[0;34m,\u001b[0m \u001b[0mdtype\u001b[0m\u001b[0;34m=\u001b[0m\u001b[0mtorch\u001b[0m\u001b[0;34m.\u001b[0m\u001b[0mfloat32\u001b[0m\u001b[0;34m)\u001b[0m\u001b[0;34m\u001b[0m\u001b[0;34m\u001b[0m\u001b[0m\n\u001b[0m\u001b[1;32m     27\u001b[0m \u001b[0;34m\u001b[0m\u001b[0m\n\u001b[1;32m     28\u001b[0m     \u001b[0;32mdef\u001b[0m \u001b[0m__len__\u001b[0m\u001b[0;34m(\u001b[0m\u001b[0mself\u001b[0m\u001b[0;34m)\u001b[0m\u001b[0;34m:\u001b[0m\u001b[0;34m\u001b[0m\u001b[0;34m\u001b[0m\u001b[0m\n",
            "\u001b[0;31mIndexError\u001b[0m: index 84931 is out of bounds for dimension 0 with size 26642"
          ]
        }
      ]
    },
    {
      "cell_type": "code",
      "source": [
        "# Pastikan tidak ada indeks user/item di luar batas embedding\n",
        "print(f\"n_students = {len(df['user_id'].unique())}\")\n",
        "print(f\"n_items = {Q_matrix.shape[0]}\")\n",
        "print(f\"n_skills = {Q_matrix.shape[1]}\")\n",
        "\n",
        "# Pastikan maksimum ID tidak melebihi embedding\n",
        "max_uid = df[\"user_id\"].max()\n",
        "max_pid = df[\"problem_id\"].max()\n",
        "print(f\"Max user_id: {max_uid}, Max problem_id: {max_pid}\")"
      ],
      "metadata": {
        "colab": {
          "base_uri": "https://localhost:8080/"
        },
        "id": "wTIDe-DKlMlP",
        "outputId": "85a0c760-38ee-4d21-e1ca-6c635df98b57"
      },
      "execution_count": 16,
      "outputs": [
        {
          "output_type": "stream",
          "name": "stdout",
          "text": [
            "n_students = 4213\n",
            "n_items = 26642\n",
            "n_skills = 125\n",
            "Max user_id: 96299, Max problem_id: 207348\n"
          ]
        }
      ]
    },
    {
      "cell_type": "code",
      "source": [
        "user_encoder = {uid: i for i, uid in enumerate(sorted(df[\"user_id\"].unique()))}\n",
        "item_encoder = {pid: i for i, pid in enumerate(sorted(df[\"problem_id\"].unique()))}\n",
        "\n",
        "df[\"user_id_enc\"] = df[\"user_id\"].map(user_encoder)\n",
        "df[\"item_id_enc\"] = df[\"problem_id\"].map(item_encoder)\n",
        "\n",
        "n_students = len(user_encoder)\n",
        "n_items = len(item_encoder)\n",
        "n_skills = Q_matrix.shape[1]\n"
      ],
      "metadata": {
        "id": "9LRrDxnelPeX"
      },
      "execution_count": 17,
      "outputs": []
    },
    {
      "cell_type": "code",
      "source": [
        "from sklearn.preprocessing import LabelEncoder\n",
        "\n",
        "# pastikan kolom 'user_id' dan 'problem_id' ada\n",
        "print(\"Cek kolom:\", df.columns.tolist()[:10])\n",
        "\n",
        "# encode user_id dan problem_id\n",
        "user_enc = LabelEncoder()\n",
        "item_enc = LabelEncoder()\n",
        "\n",
        "df[\"user_id_enc\"] = user_enc.fit_transform(df[\"user_id\"].astype(str))\n",
        "df[\"item_id_enc\"] = item_enc.fit_transform(df[\"problem_id\"].astype(str))\n",
        "\n",
        "n_students = df[\"user_id_enc\"].nunique()\n",
        "n_items = df[\"item_id_enc\"].nunique()\n",
        "n_skills = Q_matrix.shape[1]\n",
        "\n",
        "print(f\"✅ Jumlah siswa unik: {n_students}\")\n",
        "print(f\"✅ Jumlah item unik: {n_items}\")\n",
        "print(f\"✅ Jumlah skill unik: {n_skills}\")\n",
        "\n",
        "# buat mapping item_id_enc -> index di Q_matrix\n",
        "item_to_index = {item_id: idx for idx, item_id in enumerate(sorted(df[\"item_id_enc\"].unique()))}\n"
      ],
      "metadata": {
        "colab": {
          "base_uri": "https://localhost:8080/"
        },
        "id": "EOQSsxQplvvR",
        "outputId": "9e62cf84-5a88-4ef7-ce70-c635a41a3e00"
      },
      "execution_count": 18,
      "outputs": [
        {
          "output_type": "stream",
          "name": "stdout",
          "text": [
            "Cek kolom: ['Unnamed: 0', 'order_id', 'assignment_id', 'user_id', 'assistment_id', 'problem_id', 'original', 'correct', 'attempt_count', 'ms_first_response']\n",
            "✅ Jumlah siswa unik: 4213\n",
            "✅ Jumlah item unik: 26642\n",
            "✅ Jumlah skill unik: 125\n"
          ]
        }
      ]
    },
    {
      "cell_type": "code",
      "source": [
        "# === Dataset Class ===\n",
        "class KaNCDDataset(Dataset):\n",
        "    def __init__(self, df, Q_matrix, item_to_index):\n",
        "        self.user_id = torch.tensor(df[\"user_id_enc\"].values, dtype=torch.long)\n",
        "        self.item_id = torch.tensor(df[\"item_id_enc\"].values, dtype=torch.long)\n",
        "        self.label = torch.tensor(df[\"correct\"].values, dtype=torch.float32)\n",
        "        self.Q_matrix = Q_matrix\n",
        "        self.item_to_index = item_to_index\n",
        "\n",
        "    def __len__(self):\n",
        "        return len(self.user_id)\n",
        "\n",
        "    def __getitem__(self, idx):\n",
        "        user = self.user_id[idx]\n",
        "        item = self.item_id[idx]\n",
        "        label = self.label[idx]\n",
        "\n",
        "        # tangani item yang tidak ada di Q-matrix\n",
        "        item_index = self.item_to_index.get(int(item.item()), -1)\n",
        "        if item_index == -1 or item_index >= self.Q_matrix.shape[0]:\n",
        "            knowledge_vec = torch.zeros(self.Q_matrix.shape[1])\n",
        "        else:\n",
        "            knowledge_vec = torch.tensor(self.Q_matrix[item_index], dtype=torch.float32)\n",
        "\n",
        "        return user, item, knowledge_vec, label\n",
        "\n",
        "\n",
        "# === Training setup ===\n",
        "batch_size = 64\n",
        "epochs = 10\n",
        "lr = 0.002\n",
        "save_dir = \"/content/drive/MyDrive/Ridho/KaNCD/checkpoints\"\n",
        "os.makedirs(save_dir, exist_ok=True)\n",
        "\n",
        "def save_model_checkpoint(model, optimizer, fold, epochs, auc, accuracy, save_dir):\n",
        "    checkpoint_path = os.path.join(save_dir, f\"kan_cd_fold{fold}.pt\")\n",
        "    torch.save({\n",
        "        'fold': fold,\n",
        "        'model_state_dict': model.net.state_dict(),\n",
        "        'optimizer_state_dict': optimizer.state_dict(),\n",
        "        'epochs': epochs,\n",
        "        'auc': auc,\n",
        "        'accuracy': accuracy,\n",
        "    }, checkpoint_path)\n",
        "    print(f\"✅ Model fold {fold} saved to {checkpoint_path}\")\n",
        "\n",
        "\n",
        "# === Cross-validation training ===\n",
        "from sklearn.model_selection import KFold\n",
        "\n",
        "kf = KFold(n_splits=5, shuffle=True, random_state=42)\n",
        "loss_histories, auc_folds, acc_folds = [], [], []\n",
        "\n",
        "for fold, (train_idx, val_idx) in enumerate(kf.split(df)):\n",
        "    print(f\"\\n📚 Fold {fold+1}\")\n",
        "    train_df, val_df = df.iloc[train_idx], df.iloc[val_idx]\n",
        "\n",
        "    train_loader = DataLoader(KaNCDDataset(train_df, Q_matrix, item_to_index), batch_size=batch_size, shuffle=True)\n",
        "    val_loader = DataLoader(KaNCDDataset(val_df, Q_matrix, item_to_index), batch_size=batch_size, shuffle=False)\n",
        "\n",
        "    model = KaNCD(exer_n=n_items, student_n=n_students, knowledge_n=n_skills, dim=50, mf_type=\"gmf\")\n",
        "    model.net = model.net.to(device)\n",
        "\n",
        "    loss_fn = nn.BCELoss()\n",
        "    optimizer = optim.Adam(model.net.parameters(), lr=lr)\n",
        "\n",
        "    fold_losses = []\n",
        "    for epoch in range(epochs):\n",
        "        model.net.train()\n",
        "        epoch_losses = []\n",
        "\n",
        "        for user_ids, item_ids, skill_vecs, labels in tqdm(train_loader, desc=f\"Epoch {epoch+1}\"):\n",
        "            user_ids, item_ids, skill_vecs, labels = (\n",
        "                user_ids.to(device),\n",
        "                item_ids.to(device),\n",
        "                skill_vecs.to(device),\n",
        "                labels.to(device),\n",
        "            )\n",
        "\n",
        "            preds = model.net(user_ids, item_ids, skill_vecs)\n",
        "            loss = loss_fn(preds, labels)\n",
        "            optimizer.zero_grad()\n",
        "            loss.backward()\n",
        "            optimizer.step()\n",
        "            epoch_losses.append(loss.item())\n",
        "\n",
        "        avg_loss = np.mean(epoch_losses)\n",
        "        fold_losses.append(avg_loss)\n",
        "        print(f\"[Epoch {epoch+1}] Loss: {avg_loss:.6f}\")\n",
        "\n",
        "        # Validation\n",
        "        model.net.eval()\n",
        "        y_true, y_pred = [], []\n",
        "        with torch.no_grad():\n",
        "            for user_ids, item_ids, skill_vecs, labels in val_loader:\n",
        "                user_ids, item_ids, skill_vecs, labels = (\n",
        "                    user_ids.to(device),\n",
        "                    item_ids.to(device),\n",
        "                    skill_vecs.to(device),\n",
        "                    labels.to(device),\n",
        "                )\n",
        "                preds = model.net(user_ids, item_ids, skill_vecs)\n",
        "                y_pred.extend(preds.cpu().numpy())\n",
        "                y_true.extend(labels.cpu().numpy())\n",
        "\n",
        "        auc = roc_auc_score(y_true, y_pred)\n",
        "        acc = accuracy_score(y_true, np.array(y_pred) >= 0.5)\n",
        "        print(f\"[Epoch {epoch+1}] AUC: {auc:.4f}, Accuracy: {acc:.4f}\")\n",
        "\n",
        "    loss_histories.append(fold_losses)\n",
        "    auc_folds.append(auc)\n",
        "    acc_folds.append(acc)\n",
        "    save_model_checkpoint(model, optimizer, fold+1, epochs, auc, acc, save_dir)\n",
        "\n",
        "print(\"\\n=== 5-Fold CV Summary ===\")\n",
        "print(f\"Average AUC: {np.mean(auc_folds):.4f}\")\n",
        "print(f\"Average Accuracy: {np.mean(acc_folds):.4f}\")\n",
        "\n",
        "# === Visualization ===\n",
        "plt.figure(figsize=(8,5))\n",
        "for i, losses in enumerate(loss_histories):\n",
        "    plt.plot(range(1, epochs+1), losses, marker='o', label=f\"Fold {i+1}\")\n",
        "plt.title(\"KaNCD Loss History (5-Fold CV)\")\n",
        "plt.xlabel(\"Epoch\")\n",
        "plt.ylabel(\"Loss\")\n",
        "plt.legend()\n",
        "plt.grid(True)\n",
        "plt.show()"
      ],
      "metadata": {
        "colab": {
          "base_uri": "https://localhost:8080/"
        },
        "id": "-E9PAj7Sk8Zi",
        "outputId": "5d6104d6-25b8-4c0c-d996-a6c9d01809ac"
      },
      "execution_count": null,
      "outputs": [
        {
          "output_type": "stream",
          "name": "stdout",
          "text": [
            "\n",
            "📚 Fold 1\n"
          ]
        },
        {
          "output_type": "stream",
          "name": "stderr",
          "text": [
            "Epoch 1:   0%|          | 0/4260 [00:00<?, ?it/s]/tmp/ipython-input-325992003.py:23: UserWarning: To copy construct from a tensor, it is recommended to use sourceTensor.detach().clone() or sourceTensor.detach().clone().requires_grad_(True), rather than torch.tensor(sourceTensor).\n",
            "  knowledge_vec = torch.tensor(self.Q_matrix[item_index], dtype=torch.float32)\n",
            "Epoch 1: 100%|██████████| 4260/4260 [00:39<00:00, 108.91it/s]\n"
          ]
        },
        {
          "output_type": "stream",
          "name": "stdout",
          "text": [
            "[Epoch 1] Loss: 0.583838\n",
            "[Epoch 1] AUC: 0.7389, Accuracy: 0.7154\n"
          ]
        },
        {
          "output_type": "stream",
          "name": "stderr",
          "text": [
            "Epoch 2:   0%|          | 0/4260 [00:00<?, ?it/s]/tmp/ipython-input-325992003.py:23: UserWarning: To copy construct from a tensor, it is recommended to use sourceTensor.detach().clone() or sourceTensor.detach().clone().requires_grad_(True), rather than torch.tensor(sourceTensor).\n",
            "  knowledge_vec = torch.tensor(self.Q_matrix[item_index], dtype=torch.float32)\n",
            "Epoch 2: 100%|██████████| 4260/4260 [00:37<00:00, 113.37it/s]\n"
          ]
        },
        {
          "output_type": "stream",
          "name": "stdout",
          "text": [
            "[Epoch 2] Loss: 0.518649\n",
            "[Epoch 2] AUC: 0.7418, Accuracy: 0.7146\n"
          ]
        },
        {
          "output_type": "stream",
          "name": "stderr",
          "text": [
            "Epoch 3:   0%|          | 0/4260 [00:00<?, ?it/s]/tmp/ipython-input-325992003.py:23: UserWarning: To copy construct from a tensor, it is recommended to use sourceTensor.detach().clone() or sourceTensor.detach().clone().requires_grad_(True), rather than torch.tensor(sourceTensor).\n",
            "  knowledge_vec = torch.tensor(self.Q_matrix[item_index], dtype=torch.float32)\n",
            "Epoch 3: 100%|██████████| 4260/4260 [00:38<00:00, 111.94it/s]\n"
          ]
        },
        {
          "output_type": "stream",
          "name": "stdout",
          "text": [
            "[Epoch 3] Loss: 0.495940\n",
            "[Epoch 3] AUC: 0.7397, Accuracy: 0.7146\n"
          ]
        },
        {
          "output_type": "stream",
          "name": "stderr",
          "text": [
            "Epoch 4:   0%|          | 0/4260 [00:00<?, ?it/s]/tmp/ipython-input-325992003.py:23: UserWarning: To copy construct from a tensor, it is recommended to use sourceTensor.detach().clone() or sourceTensor.detach().clone().requires_grad_(True), rather than torch.tensor(sourceTensor).\n",
            "  knowledge_vec = torch.tensor(self.Q_matrix[item_index], dtype=torch.float32)\n",
            "Epoch 4: 100%|██████████| 4260/4260 [00:37<00:00, 112.58it/s]\n"
          ]
        },
        {
          "output_type": "stream",
          "name": "stdout",
          "text": [
            "[Epoch 4] Loss: 0.481644\n",
            "[Epoch 4] AUC: 0.7388, Accuracy: 0.7139\n"
          ]
        },
        {
          "output_type": "stream",
          "name": "stderr",
          "text": [
            "Epoch 5:   0%|          | 0/4260 [00:00<?, ?it/s]/tmp/ipython-input-325992003.py:23: UserWarning: To copy construct from a tensor, it is recommended to use sourceTensor.detach().clone() or sourceTensor.detach().clone().requires_grad_(True), rather than torch.tensor(sourceTensor).\n",
            "  knowledge_vec = torch.tensor(self.Q_matrix[item_index], dtype=torch.float32)\n",
            "Epoch 5: 100%|██████████| 4260/4260 [00:37<00:00, 114.53it/s]\n"
          ]
        },
        {
          "output_type": "stream",
          "name": "stdout",
          "text": [
            "[Epoch 5] Loss: 0.472215\n",
            "[Epoch 5] AUC: 0.7384, Accuracy: 0.7146\n"
          ]
        },
        {
          "output_type": "stream",
          "name": "stderr",
          "text": [
            "Epoch 6:   0%|          | 0/4260 [00:00<?, ?it/s]/tmp/ipython-input-325992003.py:23: UserWarning: To copy construct from a tensor, it is recommended to use sourceTensor.detach().clone() or sourceTensor.detach().clone().requires_grad_(True), rather than torch.tensor(sourceTensor).\n",
            "  knowledge_vec = torch.tensor(self.Q_matrix[item_index], dtype=torch.float32)\n",
            "Epoch 6: 100%|██████████| 4260/4260 [00:37<00:00, 114.50it/s]\n"
          ]
        },
        {
          "output_type": "stream",
          "name": "stdout",
          "text": [
            "[Epoch 6] Loss: 0.464994\n",
            "[Epoch 6] AUC: 0.7375, Accuracy: 0.7146\n"
          ]
        },
        {
          "output_type": "stream",
          "name": "stderr",
          "text": [
            "Epoch 7:   0%|          | 0/4260 [00:00<?, ?it/s]/tmp/ipython-input-325992003.py:23: UserWarning: To copy construct from a tensor, it is recommended to use sourceTensor.detach().clone() or sourceTensor.detach().clone().requires_grad_(True), rather than torch.tensor(sourceTensor).\n",
            "  knowledge_vec = torch.tensor(self.Q_matrix[item_index], dtype=torch.float32)\n",
            "Epoch 7: 100%|██████████| 4260/4260 [00:37<00:00, 114.54it/s]\n"
          ]
        },
        {
          "output_type": "stream",
          "name": "stdout",
          "text": [
            "[Epoch 7] Loss: 0.458955\n",
            "[Epoch 7] AUC: 0.7359, Accuracy: 0.7095\n"
          ]
        },
        {
          "output_type": "stream",
          "name": "stderr",
          "text": [
            "Epoch 8:   0%|          | 0/4260 [00:00<?, ?it/s]/tmp/ipython-input-325992003.py:23: UserWarning: To copy construct from a tensor, it is recommended to use sourceTensor.detach().clone() or sourceTensor.detach().clone().requires_grad_(True), rather than torch.tensor(sourceTensor).\n",
            "  knowledge_vec = torch.tensor(self.Q_matrix[item_index], dtype=torch.float32)\n",
            "Epoch 8: 100%|██████████| 4260/4260 [00:36<00:00, 115.21it/s]\n"
          ]
        },
        {
          "output_type": "stream",
          "name": "stdout",
          "text": [
            "[Epoch 8] Loss: 0.454265\n",
            "[Epoch 8] AUC: 0.7361, Accuracy: 0.7120\n"
          ]
        },
        {
          "output_type": "stream",
          "name": "stderr",
          "text": [
            "Epoch 9:   0%|          | 0/4260 [00:00<?, ?it/s]/tmp/ipython-input-325992003.py:23: UserWarning: To copy construct from a tensor, it is recommended to use sourceTensor.detach().clone() or sourceTensor.detach().clone().requires_grad_(True), rather than torch.tensor(sourceTensor).\n",
            "  knowledge_vec = torch.tensor(self.Q_matrix[item_index], dtype=torch.float32)\n",
            "Epoch 9: 100%|██████████| 4260/4260 [00:36<00:00, 115.22it/s]\n"
          ]
        },
        {
          "output_type": "stream",
          "name": "stdout",
          "text": [
            "[Epoch 9] Loss: 0.450714\n",
            "[Epoch 9] AUC: 0.7330, Accuracy: 0.7115\n"
          ]
        },
        {
          "output_type": "stream",
          "name": "stderr",
          "text": [
            "Epoch 10:   0%|          | 0/4260 [00:00<?, ?it/s]/tmp/ipython-input-325992003.py:23: UserWarning: To copy construct from a tensor, it is recommended to use sourceTensor.detach().clone() or sourceTensor.detach().clone().requires_grad_(True), rather than torch.tensor(sourceTensor).\n",
            "  knowledge_vec = torch.tensor(self.Q_matrix[item_index], dtype=torch.float32)\n",
            "Epoch 10: 100%|██████████| 4260/4260 [00:37<00:00, 113.80it/s]\n"
          ]
        },
        {
          "output_type": "stream",
          "name": "stdout",
          "text": [
            "[Epoch 10] Loss: 0.447239\n",
            "[Epoch 10] AUC: 0.7332, Accuracy: 0.7098\n",
            "✅ Model fold 1 saved to /content/drive/MyDrive/Ridho/KaNCD/checkpoints/kan_cd_fold1.pt\n",
            "\n",
            "📚 Fold 2\n"
          ]
        },
        {
          "output_type": "stream",
          "name": "stderr",
          "text": [
            "Epoch 1:   0%|          | 0/4260 [00:00<?, ?it/s]/tmp/ipython-input-325992003.py:23: UserWarning: To copy construct from a tensor, it is recommended to use sourceTensor.detach().clone() or sourceTensor.detach().clone().requires_grad_(True), rather than torch.tensor(sourceTensor).\n",
            "  knowledge_vec = torch.tensor(self.Q_matrix[item_index], dtype=torch.float32)\n",
            "Epoch 1: 100%|██████████| 4260/4260 [00:38<00:00, 111.60it/s]\n"
          ]
        },
        {
          "output_type": "stream",
          "name": "stdout",
          "text": [
            "[Epoch 1] Loss: 0.583344\n",
            "[Epoch 1] AUC: 0.7403, Accuracy: 0.7161\n"
          ]
        },
        {
          "output_type": "stream",
          "name": "stderr",
          "text": [
            "Epoch 2:   0%|          | 0/4260 [00:00<?, ?it/s]/tmp/ipython-input-325992003.py:23: UserWarning: To copy construct from a tensor, it is recommended to use sourceTensor.detach().clone() or sourceTensor.detach().clone().requires_grad_(True), rather than torch.tensor(sourceTensor).\n",
            "  knowledge_vec = torch.tensor(self.Q_matrix[item_index], dtype=torch.float32)\n",
            "Epoch 2: 100%|██████████| 4260/4260 [00:37<00:00, 114.29it/s]\n"
          ]
        },
        {
          "output_type": "stream",
          "name": "stdout",
          "text": [
            "[Epoch 2] Loss: 0.518883\n",
            "[Epoch 2] AUC: 0.7425, Accuracy: 0.7133\n"
          ]
        },
        {
          "output_type": "stream",
          "name": "stderr",
          "text": [
            "Epoch 3:   0%|          | 0/4260 [00:00<?, ?it/s]/tmp/ipython-input-325992003.py:23: UserWarning: To copy construct from a tensor, it is recommended to use sourceTensor.detach().clone() or sourceTensor.detach().clone().requires_grad_(True), rather than torch.tensor(sourceTensor).\n",
            "  knowledge_vec = torch.tensor(self.Q_matrix[item_index], dtype=torch.float32)\n",
            "Epoch 3: 100%|██████████| 4260/4260 [00:37<00:00, 114.10it/s]\n"
          ]
        },
        {
          "output_type": "stream",
          "name": "stdout",
          "text": [
            "[Epoch 3] Loss: 0.495171\n",
            "[Epoch 3] AUC: 0.7410, Accuracy: 0.7155\n"
          ]
        },
        {
          "output_type": "stream",
          "name": "stderr",
          "text": [
            "Epoch 4:   0%|          | 0/4260 [00:00<?, ?it/s]/tmp/ipython-input-325992003.py:23: UserWarning: To copy construct from a tensor, it is recommended to use sourceTensor.detach().clone() or sourceTensor.detach().clone().requires_grad_(True), rather than torch.tensor(sourceTensor).\n",
            "  knowledge_vec = torch.tensor(self.Q_matrix[item_index], dtype=torch.float32)\n",
            "Epoch 4: 100%|██████████| 4260/4260 [00:36<00:00, 115.69it/s]\n"
          ]
        },
        {
          "output_type": "stream",
          "name": "stdout",
          "text": [
            "[Epoch 4] Loss: 0.481494\n",
            "[Epoch 4] AUC: 0.7402, Accuracy: 0.7125\n"
          ]
        },
        {
          "output_type": "stream",
          "name": "stderr",
          "text": [
            "Epoch 5:   0%|          | 0/4260 [00:00<?, ?it/s]/tmp/ipython-input-325992003.py:23: UserWarning: To copy construct from a tensor, it is recommended to use sourceTensor.detach().clone() or sourceTensor.detach().clone().requires_grad_(True), rather than torch.tensor(sourceTensor).\n",
            "  knowledge_vec = torch.tensor(self.Q_matrix[item_index], dtype=torch.float32)\n",
            "Epoch 5: 100%|██████████| 4260/4260 [00:37<00:00, 114.56it/s]\n"
          ]
        },
        {
          "output_type": "stream",
          "name": "stdout",
          "text": [
            "[Epoch 5] Loss: 0.472061\n",
            "[Epoch 5] AUC: 0.7395, Accuracy: 0.7170\n"
          ]
        },
        {
          "output_type": "stream",
          "name": "stderr",
          "text": [
            "Epoch 6:   0%|          | 0/4260 [00:00<?, ?it/s]/tmp/ipython-input-325992003.py:23: UserWarning: To copy construct from a tensor, it is recommended to use sourceTensor.detach().clone() or sourceTensor.detach().clone().requires_grad_(True), rather than torch.tensor(sourceTensor).\n",
            "  knowledge_vec = torch.tensor(self.Q_matrix[item_index], dtype=torch.float32)\n",
            "Epoch 6: 100%|██████████| 4260/4260 [00:36<00:00, 116.15it/s]\n"
          ]
        },
        {
          "output_type": "stream",
          "name": "stdout",
          "text": [
            "[Epoch 6] Loss: 0.464813\n",
            "[Epoch 6] AUC: 0.7381, Accuracy: 0.7142\n"
          ]
        },
        {
          "output_type": "stream",
          "name": "stderr",
          "text": [
            "Epoch 7:   0%|          | 0/4260 [00:00<?, ?it/s]/tmp/ipython-input-325992003.py:23: UserWarning: To copy construct from a tensor, it is recommended to use sourceTensor.detach().clone() or sourceTensor.detach().clone().requires_grad_(True), rather than torch.tensor(sourceTensor).\n",
            "  knowledge_vec = torch.tensor(self.Q_matrix[item_index], dtype=torch.float32)\n",
            "Epoch 7: 100%|██████████| 4260/4260 [00:36<00:00, 115.95it/s]\n"
          ]
        },
        {
          "output_type": "stream",
          "name": "stdout",
          "text": [
            "[Epoch 7] Loss: 0.458966\n",
            "[Epoch 7] AUC: 0.7368, Accuracy: 0.7147\n"
          ]
        },
        {
          "output_type": "stream",
          "name": "stderr",
          "text": [
            "Epoch 8:   0%|          | 0/4260 [00:00<?, ?it/s]/tmp/ipython-input-325992003.py:23: UserWarning: To copy construct from a tensor, it is recommended to use sourceTensor.detach().clone() or sourceTensor.detach().clone().requires_grad_(True), rather than torch.tensor(sourceTensor).\n",
            "  knowledge_vec = torch.tensor(self.Q_matrix[item_index], dtype=torch.float32)\n",
            "Epoch 8: 100%|██████████| 4260/4260 [00:36<00:00, 115.55it/s]\n"
          ]
        },
        {
          "output_type": "stream",
          "name": "stdout",
          "text": [
            "[Epoch 8] Loss: 0.454507\n",
            "[Epoch 8] AUC: 0.7359, Accuracy: 0.7104\n"
          ]
        },
        {
          "output_type": "stream",
          "name": "stderr",
          "text": [
            "Epoch 9:   0%|          | 0/4260 [00:00<?, ?it/s]/tmp/ipython-input-325992003.py:23: UserWarning: To copy construct from a tensor, it is recommended to use sourceTensor.detach().clone() or sourceTensor.detach().clone().requires_grad_(True), rather than torch.tensor(sourceTensor).\n",
            "  knowledge_vec = torch.tensor(self.Q_matrix[item_index], dtype=torch.float32)\n",
            "Epoch 9: 100%|██████████| 4260/4260 [00:36<00:00, 115.54it/s]\n"
          ]
        },
        {
          "output_type": "stream",
          "name": "stdout",
          "text": [
            "[Epoch 9] Loss: 0.450545\n",
            "[Epoch 9] AUC: 0.7361, Accuracy: 0.7125\n"
          ]
        },
        {
          "output_type": "stream",
          "name": "stderr",
          "text": [
            "Epoch 10:   0%|          | 0/4260 [00:00<?, ?it/s]/tmp/ipython-input-325992003.py:23: UserWarning: To copy construct from a tensor, it is recommended to use sourceTensor.detach().clone() or sourceTensor.detach().clone().requires_grad_(True), rather than torch.tensor(sourceTensor).\n",
            "  knowledge_vec = torch.tensor(self.Q_matrix[item_index], dtype=torch.float32)\n",
            "Epoch 10: 100%|██████████| 4260/4260 [00:36<00:00, 116.61it/s]\n"
          ]
        },
        {
          "output_type": "stream",
          "name": "stdout",
          "text": [
            "[Epoch 10] Loss: 0.447203\n"
          ]
        }
      ]
    },
    {
      "cell_type": "markdown",
      "source": [
        "# POMDP"
      ],
      "metadata": {
        "id": "qZZBZJWGrYAZ"
      }
    },
    {
      "cell_type": "code",
      "source": [
        "# === Generate predicted mastery dengan KaNCD ===\n",
        "from torch.utils.data import DataLoader\n",
        "\n",
        "model.net.eval()\n",
        "all_preds, all_user_ids, all_item_ids, all_labels = [], [], [], []\n",
        "\n",
        "with torch.no_grad():\n",
        "    # ✅ Tambahkan item_to_index sesuai definisi di training\n",
        "    data_loader = DataLoader(KaNCDDataset(df, Q_matrix, item_to_index), batch_size=64, shuffle=False)\n",
        "\n",
        "    for user_ids, item_ids, skill_vecs, labels in data_loader:\n",
        "        user_ids, item_ids, skill_vecs, labels = (\n",
        "            user_ids.to(device), item_ids.to(device),\n",
        "            skill_vecs.to(device), labels.to(device)\n",
        "        )\n",
        "        preds = model.net(user_ids, item_ids, skill_vecs)\n",
        "\n",
        "        all_preds.extend(preds.cpu().numpy())\n",
        "        all_user_ids.extend(user_ids.cpu().numpy())\n",
        "        all_item_ids.extend(item_ids.cpu().numpy())\n",
        "        all_labels.extend(labels.cpu().numpy())\n",
        "\n",
        "pred_df = pd.DataFrame({\n",
        "    \"user_id\": all_user_ids,\n",
        "    \"item_id\": all_item_ids,\n",
        "    \"predicted_mastery\": all_preds,\n",
        "    \"correct\": all_labels\n",
        "})\n",
        "pred_df.to_csv(\"predict_skill_mastery_kan_cd.csv\", index=False)\n",
        "print(\"✅ Prediksi disimpan ke predict_skill_mastery_kan_cd.csv\")"
      ],
      "metadata": {
        "colab": {
          "base_uri": "https://localhost:8080/"
        },
        "id": "DhLzaLYNrZaW",
        "outputId": "f574a2e3-635c-4d89-e519-b8cf2aa804fd"
      },
      "execution_count": 30,
      "outputs": [
        {
          "output_type": "stream",
          "name": "stderr",
          "text": [
            "/tmp/ipython-input-325992003.py:23: UserWarning: To copy construct from a tensor, it is recommended to use sourceTensor.detach().clone() or sourceTensor.detach().clone().requires_grad_(True), rather than torch.tensor(sourceTensor).\n",
            "  knowledge_vec = torch.tensor(self.Q_matrix[item_index], dtype=torch.float32)\n"
          ]
        },
        {
          "output_type": "stream",
          "name": "stdout",
          "text": [
            "✅ Prediksi disimpan ke predict_skill_mastery_kan_cd.csv\n"
          ]
        }
      ]
    },
    {
      "cell_type": "code",
      "source": [
        "pred_df = pd.read_csv(\"predict_skill_mastery_kan_cd.csv\")\n",
        "Q = Q_matrix\n",
        "\n",
        "n_items, n_skills = Q.shape\n",
        "item_mean_correct = pred_df.groupby(\"item_id\")[\"correct\"].mean().reindex(range(n_items), fill_value=0.5)\n",
        "item_difficulty = 1.0 - item_mean_correct.values\n",
        "\n",
        "items_per_skill = {k: np.where(Q[:, k] == 1)[0].tolist() for k in range(n_skills)}\n",
        "user_item_pred = {u: dict(zip(g[\"item_id\"], g[\"predicted_mastery\"])) for u, g in pred_df.groupby(\"user_id\")}\n",
        "all_user_ids = sorted(pred_df.user_id.unique().tolist())\n",
        "\n",
        "def build_initial_belief(user_id):\n",
        "    ui = user_item_pred.get(user_id, {})\n",
        "    b = []\n",
        "    for k in range(n_skills):\n",
        "        item_k = items_per_skill[k]\n",
        "        vals = [ui[i] for i in item_k if i in ui]\n",
        "        b.append(np.mean(vals) if len(vals) else 0.5)\n",
        "    return np.clip(np.array(b, dtype=np.float32), 0, 1)"
      ],
      "metadata": {
        "id": "qeNIT5y2raja"
      },
      "execution_count": 31,
      "outputs": []
    },
    {
      "cell_type": "code",
      "source": [
        "import math, random\n",
        "import torch.nn as nn\n",
        "import torch.optim as optim\n",
        "\n",
        "class AdaptiveEnv:\n",
        "    def __init__(self, Q, item_difficulty, episode_len=10, beta=4.0, eta=0.25):\n",
        "        self.Q = Q\n",
        "        self.item_difficulty = item_difficulty\n",
        "        self.n_items, self.n_skills = Q.shape\n",
        "        self.episode_len = episode_len\n",
        "        self.beta = beta\n",
        "        self.eta = eta\n",
        "        self.items_per_skill = {k: np.where(Q[:,k]==1)[0].tolist() for k in range(self.n_skills)}\n",
        "        self.reset()\n",
        "\n",
        "    def reset(self, b0=None):\n",
        "        if b0 is None:\n",
        "            b0 = np.ones(self.n_skills, dtype=np.float32)*0.5\n",
        "        self.b = b0.astype(np.float32).copy()\n",
        "        self.t = 0\n",
        "        self.asked = set()\n",
        "        return torch.from_numpy(self.b).to(device)\n",
        "\n",
        "    def _p_correct(self, item_id):\n",
        "        skills = np.where(self.Q[item_id]==1)[0]\n",
        "        avg_b = float(np.mean(self.b[skills])) if len(skills)>0 else float(np.mean(self.b))\n",
        "        diff = float(self.item_difficulty[item_id])\n",
        "        x = self.beta * (avg_b - diff)\n",
        "        return 1.0 / (1.0 + math.exp(-x))\n",
        "\n",
        "    def step(self, action_skill):\n",
        "        candidates = [i for i in self.items_per_skill[action_skill] if i not in self.asked]\n",
        "        item_id = random.choice(candidates) if candidates else random.randint(0, self.n_items-1)\n",
        "        self.asked.add(item_id)\n",
        "\n",
        "        p = self._p_correct(item_id)\n",
        "        obs = 1 if random.random() < p else 0\n",
        "        reward = 1.0 if obs==1 else 0.0\n",
        "\n",
        "        skills = np.where(self.Q[item_id]==1)[0]\n",
        "        if len(skills)>0:\n",
        "            delta = self.eta * (obs - p)\n",
        "            self.b[skills] = np.clip(self.b[skills] + delta, 0, 1)\n",
        "\n",
        "        self.t += 1\n",
        "        done = (self.t >= self.episode_len)\n",
        "        next_state = torch.from_numpy(self.b.astype(np.float32)).to(device)\n",
        "        return next_state, reward, done, {\"item\": item_id, \"obs\": obs, \"p\": p}"
      ],
      "metadata": {
        "id": "fDOFpvZMrcNU"
      },
      "execution_count": 32,
      "outputs": []
    },
    {
      "cell_type": "code",
      "source": [
        "from torch.distributions import Categorical\n",
        "\n",
        "class PolicyNet(nn.Module):\n",
        "    def __init__(self, n_skills, hidden=64):\n",
        "        super().__init__()\n",
        "        self.fc1 = nn.Linear(n_skills, hidden)\n",
        "        self.fc2 = nn.Linear(hidden, n_skills)\n",
        "    def forward(self, x):\n",
        "        h = torch.relu(self.fc1(x))\n",
        "        return torch.softmax(self.fc2(h), dim=-1)\n",
        "\n",
        "def train_policy_gradient(episode_len=10, epochs=30, episodes_per_epoch=200,\n",
        "                          gamma=0.99, lr=1e-2, ent_coef=1e-2, max_grad_norm=1.0,\n",
        "                          save_dir=\"/content/drive/MyDrive/Epri/KaNCD/rl_pg\"):\n",
        "\n",
        "    os.makedirs(save_dir, exist_ok=True)\n",
        "    env = AdaptiveEnv(Q, item_difficulty, episode_len=episode_len)\n",
        "    policy = PolicyNet(n_skills).to(device)\n",
        "    optimizer = optim.Adam(policy.parameters(), lr=lr)\n",
        "    history = []\n",
        "\n",
        "    for epoch in range(1, epochs+1):\n",
        "        ep_rewards_all, acc_all = [], []\n",
        "        log_probs_all, returns_all, entropies_all = [], [], []\n",
        "        for _ in range(episodes_per_epoch):\n",
        "            uid = random.choice(all_user_ids)\n",
        "            state = env.reset(b0=build_initial_belief(uid))\n",
        "            rewards, logps, entrs = [], [], []\n",
        "            correct, done = 0, False\n",
        "            while not done:\n",
        "                probs = policy(state)\n",
        "                dist = Categorical(probs)\n",
        "                action = dist.sample()\n",
        "                next_state, r, done, info = env.step(action.item())\n",
        "                rewards.append(r)\n",
        "                logps.append(dist.log_prob(action))\n",
        "                entrs.append(dist.entropy())\n",
        "                correct += info[\"obs\"]\n",
        "                state = next_state\n",
        "            # discounted returns\n",
        "            G, R = 0.0, []\n",
        "            for r in reversed(rewards):\n",
        "                G = r + gamma * G\n",
        "                R.insert(0, G)\n",
        "            R = torch.tensor(R, dtype=torch.float32, device=device)\n",
        "            R = (R - R.mean()) / (R.std() + 1e-8)\n",
        "            log_probs_all.extend(logps)\n",
        "            returns_all.extend(R)\n",
        "            entropies_all.extend(entrs)\n",
        "            ep_rewards_all.append(sum(rewards))\n",
        "            acc_all.append(np.mean(rewards))\n",
        "\n",
        "        returns_all = torch.stack(returns_all)\n",
        "        log_probs_all = torch.stack(log_probs_all)\n",
        "        entropies_all = torch.stack(entropies_all)\n",
        "\n",
        "        policy_loss = -(log_probs_all * returns_all).sum()\n",
        "        entropy_bonus = entropies_all.sum()\n",
        "        loss = policy_loss - ent_coef * entropy_bonus\n",
        "\n",
        "        optimizer.zero_grad()\n",
        "        loss.backward()\n",
        "        nn.utils.clip_grad_norm_(policy.parameters(), max_grad_norm)\n",
        "        optimizer.step()\n",
        "\n",
        "        avg_reward = float(np.mean(ep_rewards_all))\n",
        "        avg_acc = float(np.mean(acc_all))\n",
        "        print(f\"Epoch {epoch:03d} | Reward {avg_reward:.3f} | Acc {avg_acc:.3f} | Loss {loss.item():.3f}\")\n",
        "        history.append({\"epoch\": epoch, \"avg_reward\": avg_reward, \"avg_acc\": avg_acc, \"loss\": loss.item()})\n",
        "\n",
        "    return policy, pd.DataFrame(history)"
      ],
      "metadata": {
        "id": "JdLxdaT1rduh"
      },
      "execution_count": 33,
      "outputs": []
    },
    {
      "cell_type": "code",
      "source": [
        "Q = Q_matrix  # alias biar cocok dengan nama variabel di AdaptiveEnv"
      ],
      "metadata": {
        "id": "2KlXtdaoYJeD"
      },
      "execution_count": 26,
      "outputs": []
    },
    {
      "cell_type": "code",
      "source": [
        "@torch.no_grad()\n",
        "def evaluate(policy, episode_len=10, N=1000):\n",
        "    env = AdaptiveEnv(Q, item_difficulty, episode_len=episode_len)\n",
        "    policy.eval()\n",
        "    rewards, accs = [], []\n",
        "    for _ in range(N):\n",
        "        uid = random.choice(all_user_ids)\n",
        "        state = env.reset(b0=build_initial_belief(uid))\n",
        "        total_r, correct, done = 0.0, 0, False\n",
        "        while not done:\n",
        "            probs = policy(state)\n",
        "            action = torch.argmax(probs).item()\n",
        "            state, r, done, info = env.step(action)\n",
        "            total_r += r\n",
        "            correct += info[\"obs\"]\n",
        "        rewards.append(total_r)\n",
        "        accs.append(correct/episode_len)\n",
        "    return float(np.mean(accs)), float(np.std(accs)), float(np.mean(rewards)), float(np.std(rewards))\n",
        "\n",
        "# === Eksekusi 10 soal ===\n",
        "print(\"\\n===== Policy Gradient (REINFORCE) – 10 soal =====\")\n",
        "policy10, hist10 = train_policy_gradient(episode_len=10, epochs=30, episodes_per_epoch=200)\n",
        "acc_mu, acc_sd, rew_mu, rew_sd = evaluate(policy10, episode_len=10, N=1000)\n",
        "print(f\"[TEST 10] Acc {acc_mu:.3f} ± {acc_sd:.3f} | Reward {rew_mu:.2f} ± {rew_sd:.2f}\")\n",
        "\n",
        "# === Eksekusi 15 soal ===\n",
        "print(\"\\n===== Policy Gradient (REINFORCE) – 15 soal =====\")\n",
        "policy15, hist15 = train_policy_gradient(episode_len=15, epochs=30, episodes_per_epoch=200)\n",
        "acc_mu, acc_sd, rew_mu, rew_sd = evaluate(policy15, episode_len=15, N=1000)\n",
        "print(f\"[TEST 15] Acc {acc_mu:.3f} ± {acc_sd:.3f} | Reward {rew_mu:.2f} ± {rew_sd:.2f}\")"
      ],
      "metadata": {
        "id": "-dEWB7K1rf3D",
        "colab": {
          "base_uri": "https://localhost:8080/"
        },
        "outputId": "13d5b6fb-3e24-46f7-e642-33fbe7eb0e06"
      },
      "execution_count": 34,
      "outputs": [
        {
          "output_type": "stream",
          "name": "stdout",
          "text": [
            "\n",
            "===== Policy Gradient (REINFORCE) – 10 soal =====\n",
            "Epoch 001 | Reward 6.305 | Acc 0.630 | Loss -101.487\n",
            "Epoch 002 | Reward 6.195 | Acc 0.620 | Loss -88.900\n",
            "Epoch 003 | Reward 6.290 | Acc 0.629 | Loss -86.227\n",
            "Epoch 004 | Reward 6.480 | Acc 0.648 | Loss -96.974\n",
            "Epoch 005 | Reward 6.525 | Acc 0.652 | Loss -124.920\n",
            "Epoch 006 | Reward 6.455 | Acc 0.645 | Loss -60.293\n",
            "Epoch 007 | Reward 6.490 | Acc 0.649 | Loss -58.503\n",
            "Epoch 008 | Reward 6.550 | Acc 0.655 | Loss -94.241\n",
            "Epoch 009 | Reward 6.705 | Acc 0.671 | Loss -121.144\n",
            "Epoch 010 | Reward 6.595 | Acc 0.659 | Loss -62.820\n",
            "Epoch 011 | Reward 6.590 | Acc 0.659 | Loss -26.893\n",
            "Epoch 012 | Reward 6.540 | Acc 0.654 | Loss 3.488\n",
            "Epoch 013 | Reward 6.770 | Acc 0.677 | Loss -142.294\n",
            "Epoch 014 | Reward 6.370 | Acc 0.637 | Loss -9.924\n",
            "Epoch 015 | Reward 6.680 | Acc 0.668 | Loss 99.539\n",
            "Epoch 016 | Reward 6.550 | Acc 0.655 | Loss -93.176\n",
            "Epoch 017 | Reward 6.730 | Acc 0.673 | Loss -35.834\n",
            "Epoch 018 | Reward 6.755 | Acc 0.675 | Loss -131.443\n",
            "Epoch 019 | Reward 6.660 | Acc 0.666 | Loss -47.338\n",
            "Epoch 020 | Reward 6.630 | Acc 0.663 | Loss -168.344\n",
            "Epoch 021 | Reward 6.810 | Acc 0.681 | Loss -114.169\n",
            "Epoch 022 | Reward 6.880 | Acc 0.688 | Loss -149.873\n",
            "Epoch 023 | Reward 6.760 | Acc 0.676 | Loss -104.084\n",
            "Epoch 024 | Reward 6.820 | Acc 0.682 | Loss -110.616\n",
            "Epoch 025 | Reward 6.830 | Acc 0.683 | Loss -173.910\n",
            "Epoch 026 | Reward 6.935 | Acc 0.693 | Loss -183.798\n",
            "Epoch 027 | Reward 7.125 | Acc 0.713 | Loss -149.514\n",
            "Epoch 028 | Reward 7.335 | Acc 0.733 | Loss -138.982\n",
            "Epoch 029 | Reward 7.410 | Acc 0.741 | Loss -107.058\n",
            "Epoch 030 | Reward 7.525 | Acc 0.752 | Loss 32.660\n",
            "[TEST 10] Acc 0.790 ± 0.208 | Reward 7.90 ± 2.08\n",
            "\n",
            "===== Policy Gradient (REINFORCE) – 15 soal =====\n",
            "Epoch 001 | Reward 9.220 | Acc 0.615 | Loss -142.602\n",
            "Epoch 002 | Reward 9.585 | Acc 0.639 | Loss -160.552\n",
            "Epoch 003 | Reward 9.195 | Acc 0.613 | Loss -147.648\n",
            "Epoch 004 | Reward 9.665 | Acc 0.644 | Loss -79.832\n",
            "Epoch 005 | Reward 9.820 | Acc 0.655 | Loss -222.963\n",
            "Epoch 006 | Reward 9.900 | Acc 0.660 | Loss -172.248\n",
            "Epoch 007 | Reward 9.845 | Acc 0.656 | Loss -155.796\n",
            "Epoch 008 | Reward 9.950 | Acc 0.663 | Loss -186.639\n",
            "Epoch 009 | Reward 9.845 | Acc 0.656 | Loss -157.258\n",
            "Epoch 010 | Reward 10.035 | Acc 0.669 | Loss -140.091\n",
            "Epoch 011 | Reward 10.100 | Acc 0.673 | Loss -169.766\n",
            "Epoch 012 | Reward 10.410 | Acc 0.694 | Loss -144.049\n",
            "Epoch 013 | Reward 10.045 | Acc 0.670 | Loss -89.495\n",
            "Epoch 014 | Reward 10.295 | Acc 0.686 | Loss -38.038\n",
            "Epoch 015 | Reward 10.630 | Acc 0.709 | Loss -91.210\n",
            "Epoch 016 | Reward 10.605 | Acc 0.707 | Loss -166.320\n",
            "Epoch 017 | Reward 10.750 | Acc 0.717 | Loss -89.487\n",
            "Epoch 018 | Reward 10.970 | Acc 0.731 | Loss -166.858\n",
            "Epoch 019 | Reward 10.945 | Acc 0.730 | Loss -97.065\n",
            "Epoch 020 | Reward 11.240 | Acc 0.749 | Loss -122.585\n",
            "Epoch 021 | Reward 11.505 | Acc 0.767 | Loss -142.890\n",
            "Epoch 022 | Reward 11.370 | Acc 0.758 | Loss -113.554\n",
            "Epoch 023 | Reward 11.795 | Acc 0.786 | Loss -121.558\n",
            "Epoch 024 | Reward 11.645 | Acc 0.776 | Loss -95.318\n",
            "Epoch 025 | Reward 11.895 | Acc 0.793 | Loss -85.994\n",
            "Epoch 026 | Reward 11.910 | Acc 0.794 | Loss -101.548\n",
            "Epoch 027 | Reward 11.835 | Acc 0.789 | Loss -17.900\n",
            "Epoch 028 | Reward 11.750 | Acc 0.783 | Loss -210.919\n",
            "Epoch 029 | Reward 11.340 | Acc 0.756 | Loss -218.926\n",
            "Epoch 030 | Reward 11.440 | Acc 0.763 | Loss -162.839\n",
            "[TEST 15] Acc 0.850 ± 0.167 | Reward 12.75 ± 2.51\n"
          ]
        }
      ]
    },
    {
      "cell_type": "code",
      "source": [
        "@torch.no_grad()\n",
        "def rekomendasi_soal(policy, user_id, topk=5):\n",
        "    env = AdaptiveEnv(Q, item_difficulty, episode_len=topk)\n",
        "    state = env.reset(b0=build_initial_belief(user_id))\n",
        "    rekomendasi, done = [], False\n",
        "\n",
        "    while not done and len(rekomendasi) < topk:\n",
        "        probs = policy(state)\n",
        "        action = torch.argmax(probs).item()\n",
        "        next_state, reward, done, info = env.step(action)\n",
        "        rekomendasi.append({\n",
        "            \"soal_id\": info[\"item\"],\n",
        "            \"skill_id\": action,\n",
        "            \"prob_benar\": round(info[\"p\"], 3),\n",
        "            \"estimasi_kemampuan\": round(float(next_state[action].cpu().numpy()), 3),\n",
        "            \"hasil_simulasi\": \"Benar\" if info[\"obs\"] == 1 else \"Salah\"\n",
        "        })\n",
        "        state = next_state\n",
        "\n",
        "    return pd.DataFrame(rekomendasi)\n",
        "\n",
        "# contoh penggunaan\n",
        "df_rekom = rekomendasi_soal(policy10, user_id=3, topk=15)\n",
        "print(df_rekom)"
      ],
      "metadata": {
        "id": "X9J_6WzS4fJs",
        "colab": {
          "base_uri": "https://localhost:8080/"
        },
        "outputId": "b9e9261b-5cbd-4781-e7bc-f8763bbae85d"
      },
      "execution_count": 35,
      "outputs": [
        {
          "output_type": "stream",
          "name": "stdout",
          "text": [
            "    soal_id  skill_id  prob_benar  estimasi_kemampuan hasil_simulasi\n",
            "0     16607         7       0.752               0.562          Benar\n",
            "1     16566         7       0.765               0.371          Salah\n",
            "2     16563         7       0.693               0.197          Salah\n",
            "3     16564         7       0.209               0.395          Benar\n",
            "4     16613         7       0.829               0.438          Benar\n",
            "5     16600         7       0.818               0.483          Benar\n",
            "6     16598         7       0.740               0.548          Benar\n",
            "7     16567         7       0.876               0.579          Benar\n",
            "8     16577         7       0.834               0.621          Benar\n",
            "9     16592         7       0.923               0.640          Benar\n",
            "10    16618         7       0.826               0.684          Benar\n",
            "11    16603         7       0.920               0.703          Benar\n",
            "12    16606         7       0.943               0.718          Benar\n",
            "13    16596         7       0.946               0.731          Benar\n",
            "14    16570         7       0.949               0.744          Benar\n"
          ]
        }
      ]
    },
    {
      "cell_type": "code",
      "source": [
        "hist10.to_csv(\"rl_pg_hist_10.csv\", index=False)\n",
        "hist15.to_csv(\"rl_pg_hist_15.csv\", index=False)\n",
        "print(\"✅ Histori training RL disimpan ke rl_pg_hist_10.csv dan rl_pg_hist_15.csv\")"
      ],
      "metadata": {
        "id": "KqgcJrGe5oNP",
        "colab": {
          "base_uri": "https://localhost:8080/"
        },
        "outputId": "705c20c8-bbc4-4039-daed-53bc0a905d1e"
      },
      "execution_count": 36,
      "outputs": [
        {
          "output_type": "stream",
          "name": "stdout",
          "text": [
            "✅ Histori training RL disimpan ke rl_pg_hist_10.csv dan rl_pg_hist_15.csv\n"
          ]
        }
      ]
    },
    {
      "cell_type": "code",
      "source": [
        "torch.save(policy10.state_dict(), \"policy_len10.pt\")\n",
        "torch.save(policy15.state_dict(), \"policy_len15.pt\")\n",
        "print(\"✅ Policy models saved (10 soal & 15 soal)\")"
      ],
      "metadata": {
        "id": "GQ2l5S7b5qm2",
        "colab": {
          "base_uri": "https://localhost:8080/"
        },
        "outputId": "17bfdebb-5c01-47a8-f51a-63614ca448d8"
      },
      "execution_count": 37,
      "outputs": [
        {
          "output_type": "stream",
          "name": "stdout",
          "text": [
            "✅ Policy models saved (10 soal & 15 soal)\n"
          ]
        }
      ]
    },
    {
      "cell_type": "code",
      "source": [
        "import matplotlib.pyplot as plt\n",
        "import torch\n",
        "import numpy as np\n",
        "import os\n",
        "import random\n",
        "\n",
        "@torch.no_grad()\n",
        "def evaluate(policy, episode_len=10, N=1000):\n",
        "    env = AdaptiveEnv(Q, item_difficulty, episode_len=episode_len)\n",
        "    policy.eval()\n",
        "    rewards, accs = [], []\n",
        "    for _ in range(N):\n",
        "        uid = random.choice(all_user_ids)\n",
        "        state = env.reset(b0=build_initial_belief(uid))\n",
        "        total_r, correct, done = 0.0, 0, False\n",
        "        while not done:\n",
        "            probs = policy(state)\n",
        "            action = torch.argmax(probs).item()\n",
        "            state, r, done, info = env.step(action)\n",
        "            total_r += r\n",
        "            correct += info[\"obs\"]\n",
        "        rewards.append(total_r)\n",
        "        accs.append(correct / episode_len)\n",
        "    return float(np.mean(accs)), float(np.std(accs)), float(np.mean(rewards)), float(np.std(rewards))\n",
        "\n",
        "\n",
        "# === Eksekusi 10 soal ===\n",
        "print(\"\\n===== Policy Gradient (REINFORCE) – 10 soal =====\")\n",
        "policy10, hist10 = train_policy_gradient(episode_len=10, epochs=30, episodes_per_epoch=200)\n",
        "acc_mu_10, acc_sd_10, rew_mu_10, rew_sd_10 = evaluate(policy10, episode_len=10, N=1000)\n",
        "print(f\"[TEST 10] Acc {acc_mu_10:.3f} ± {acc_sd_10:.3f} | Reward {rew_mu_10:.2f} ± {rew_sd_10:.2f}\")\n",
        "\n",
        "# === Eksekusi 15 soal ===\n",
        "print(\"\\n===== Policy Gradient (REINFORCE) – 15 soal =====\")\n",
        "policy15, hist15 = train_policy_gradient(episode_len=15, epochs=30, episodes_per_epoch=200)\n",
        "acc_mu_15, acc_sd_15, rew_mu_15, rew_sd_15 = evaluate(policy15, episode_len=15, N=1000)\n",
        "print(f\"[TEST 15] Acc {acc_mu_15:.3f} ± {acc_sd_15:.3f} | Reward {rew_mu_15:.2f} ± {rew_sd_15:.2f}\")\n",
        "\n",
        "\n",
        "# === Visualisasi hasil training ===\n",
        "plt.figure(figsize=(8,5))\n",
        "plt.plot(hist10[\"epoch\"], hist10[\"reward\"], marker='o', label=\"10 Soal\")\n",
        "plt.plot(hist15[\"epoch\"], hist15[\"reward\"], marker='s', label=\"15 Soal\")\n",
        "plt.title(\"Perbandingan Reward per Epoch\", fontsize=13, weight='bold')\n",
        "plt.xlabel(\"Epoch\")\n",
        "plt.ylabel(\"Average Reward\")\n",
        "plt.legend()\n",
        "plt.grid(True, linestyle=\"--\", alpha=0.6)\n",
        "plt.tight_layout()\n",
        "plt.show()"
      ],
      "metadata": {
        "id": "1a-ZtghvaNmR",
        "colab": {
          "base_uri": "https://localhost:8080/",
          "height": 1793
        },
        "outputId": "62bc9e30-386d-4a97-a96b-9df492ec26aa"
      },
      "execution_count": 38,
      "outputs": [
        {
          "output_type": "stream",
          "name": "stdout",
          "text": [
            "\n",
            "===== Policy Gradient (REINFORCE) – 10 soal =====\n",
            "Epoch 001 | Reward 6.245 | Acc 0.624 | Loss -101.250\n",
            "Epoch 002 | Reward 5.985 | Acc 0.599 | Loss -135.493\n",
            "Epoch 003 | Reward 6.415 | Acc 0.641 | Loss -133.930\n",
            "Epoch 004 | Reward 6.380 | Acc 0.638 | Loss -99.778\n",
            "Epoch 005 | Reward 6.360 | Acc 0.636 | Loss -200.637\n",
            "Epoch 006 | Reward 6.490 | Acc 0.649 | Loss -83.494\n",
            "Epoch 007 | Reward 6.465 | Acc 0.647 | Loss 17.198\n",
            "Epoch 008 | Reward 6.140 | Acc 0.614 | Loss 48.096\n",
            "Epoch 009 | Reward 6.400 | Acc 0.640 | Loss -73.250\n",
            "Epoch 010 | Reward 6.820 | Acc 0.682 | Loss -43.739\n",
            "Epoch 011 | Reward 6.570 | Acc 0.657 | Loss -105.313\n",
            "Epoch 012 | Reward 6.915 | Acc 0.692 | Loss -106.431\n",
            "Epoch 013 | Reward 7.095 | Acc 0.710 | Loss -38.987\n",
            "Epoch 014 | Reward 7.325 | Acc 0.733 | Loss -44.725\n",
            "Epoch 015 | Reward 7.540 | Acc 0.754 | Loss -3.719\n",
            "Epoch 016 | Reward 7.465 | Acc 0.747 | Loss 68.085\n",
            "Epoch 017 | Reward 7.440 | Acc 0.744 | Loss -92.432\n",
            "Epoch 018 | Reward 7.235 | Acc 0.723 | Loss -67.000\n",
            "Epoch 019 | Reward 7.500 | Acc 0.750 | Loss -28.019\n",
            "Epoch 020 | Reward 7.410 | Acc 0.741 | Loss -50.491\n",
            "Epoch 021 | Reward 7.480 | Acc 0.748 | Loss -50.795\n",
            "Epoch 022 | Reward 7.610 | Acc 0.761 | Loss -139.474\n",
            "Epoch 023 | Reward 7.475 | Acc 0.748 | Loss -104.680\n",
            "Epoch 024 | Reward 7.705 | Acc 0.771 | Loss 52.861\n",
            "Epoch 025 | Reward 7.425 | Acc 0.743 | Loss -40.976\n",
            "Epoch 026 | Reward 7.415 | Acc 0.742 | Loss 14.053\n",
            "Epoch 027 | Reward 7.500 | Acc 0.750 | Loss 67.948\n",
            "Epoch 028 | Reward 7.670 | Acc 0.767 | Loss -72.196\n",
            "Epoch 029 | Reward 7.660 | Acc 0.766 | Loss -52.791\n",
            "Epoch 030 | Reward 7.360 | Acc 0.736 | Loss 16.735\n",
            "[TEST 10] Acc 0.714 ± 0.229 | Reward 7.14 ± 2.29\n",
            "\n",
            "===== Policy Gradient (REINFORCE) – 15 soal =====\n",
            "Epoch 001 | Reward 9.160 | Acc 0.611 | Loss -147.673\n",
            "Epoch 002 | Reward 9.280 | Acc 0.619 | Loss -151.028\n",
            "Epoch 003 | Reward 9.630 | Acc 0.642 | Loss -126.305\n",
            "Epoch 004 | Reward 9.735 | Acc 0.649 | Loss -181.042\n",
            "Epoch 005 | Reward 10.010 | Acc 0.667 | Loss -144.492\n",
            "Epoch 006 | Reward 9.795 | Acc 0.653 | Loss -74.140\n",
            "Epoch 007 | Reward 9.925 | Acc 0.662 | Loss -120.170\n",
            "Epoch 008 | Reward 9.865 | Acc 0.658 | Loss -163.966\n",
            "Epoch 009 | Reward 10.105 | Acc 0.674 | Loss -160.763\n",
            "Epoch 010 | Reward 10.145 | Acc 0.676 | Loss -112.800\n",
            "Epoch 011 | Reward 10.265 | Acc 0.684 | Loss -157.507\n",
            "Epoch 012 | Reward 10.090 | Acc 0.673 | Loss -44.774\n",
            "Epoch 013 | Reward 10.350 | Acc 0.690 | Loss -10.614\n",
            "Epoch 014 | Reward 10.045 | Acc 0.670 | Loss -167.776\n",
            "Epoch 015 | Reward 10.045 | Acc 0.670 | Loss 32.643\n",
            "Epoch 016 | Reward 9.945 | Acc 0.663 | Loss -175.704\n",
            "Epoch 017 | Reward 9.920 | Acc 0.661 | Loss -77.964\n",
            "Epoch 018 | Reward 10.200 | Acc 0.680 | Loss -82.814\n",
            "Epoch 019 | Reward 9.985 | Acc 0.666 | Loss -118.260\n",
            "Epoch 020 | Reward 10.135 | Acc 0.676 | Loss -34.302\n",
            "Epoch 021 | Reward 10.215 | Acc 0.681 | Loss -171.688\n",
            "Epoch 022 | Reward 10.265 | Acc 0.684 | Loss -277.111\n",
            "Epoch 023 | Reward 10.070 | Acc 0.671 | Loss -238.603\n",
            "Epoch 024 | Reward 10.260 | Acc 0.684 | Loss -89.965\n",
            "Epoch 025 | Reward 10.335 | Acc 0.689 | Loss -129.028\n",
            "Epoch 026 | Reward 10.285 | Acc 0.686 | Loss -144.818\n",
            "Epoch 027 | Reward 10.385 | Acc 0.692 | Loss -157.538\n",
            "Epoch 028 | Reward 10.410 | Acc 0.694 | Loss -176.945\n",
            "Epoch 029 | Reward 10.400 | Acc 0.693 | Loss -97.415\n",
            "Epoch 030 | Reward 10.505 | Acc 0.700 | Loss -113.164\n",
            "[TEST 15] Acc 0.721 ± 0.207 | Reward 10.82 ± 3.11\n"
          ]
        },
        {
          "output_type": "error",
          "ename": "KeyError",
          "evalue": "'reward'",
          "traceback": [
            "\u001b[0;31m---------------------------------------------------------------------------\u001b[0m",
            "\u001b[0;31mKeyError\u001b[0m                                  Traceback (most recent call last)",
            "\u001b[0;32m/usr/local/lib/python3.12/dist-packages/pandas/core/indexes/base.py\u001b[0m in \u001b[0;36mget_loc\u001b[0;34m(self, key)\u001b[0m\n\u001b[1;32m   3804\u001b[0m         \u001b[0;32mtry\u001b[0m\u001b[0;34m:\u001b[0m\u001b[0;34m\u001b[0m\u001b[0;34m\u001b[0m\u001b[0m\n\u001b[0;32m-> 3805\u001b[0;31m             \u001b[0;32mreturn\u001b[0m \u001b[0mself\u001b[0m\u001b[0;34m.\u001b[0m\u001b[0m_engine\u001b[0m\u001b[0;34m.\u001b[0m\u001b[0mget_loc\u001b[0m\u001b[0;34m(\u001b[0m\u001b[0mcasted_key\u001b[0m\u001b[0;34m)\u001b[0m\u001b[0;34m\u001b[0m\u001b[0;34m\u001b[0m\u001b[0m\n\u001b[0m\u001b[1;32m   3806\u001b[0m         \u001b[0;32mexcept\u001b[0m \u001b[0mKeyError\u001b[0m \u001b[0;32mas\u001b[0m \u001b[0merr\u001b[0m\u001b[0;34m:\u001b[0m\u001b[0;34m\u001b[0m\u001b[0;34m\u001b[0m\u001b[0m\n",
            "\u001b[0;32mindex.pyx\u001b[0m in \u001b[0;36mpandas._libs.index.IndexEngine.get_loc\u001b[0;34m()\u001b[0m\n",
            "\u001b[0;32mindex.pyx\u001b[0m in \u001b[0;36mpandas._libs.index.IndexEngine.get_loc\u001b[0;34m()\u001b[0m\n",
            "\u001b[0;32mpandas/_libs/hashtable_class_helper.pxi\u001b[0m in \u001b[0;36mpandas._libs.hashtable.PyObjectHashTable.get_item\u001b[0;34m()\u001b[0m\n",
            "\u001b[0;32mpandas/_libs/hashtable_class_helper.pxi\u001b[0m in \u001b[0;36mpandas._libs.hashtable.PyObjectHashTable.get_item\u001b[0;34m()\u001b[0m\n",
            "\u001b[0;31mKeyError\u001b[0m: 'reward'",
            "\nThe above exception was the direct cause of the following exception:\n",
            "\u001b[0;31mKeyError\u001b[0m                                  Traceback (most recent call last)",
            "\u001b[0;32m/tmp/ipython-input-2877577608.py\u001b[0m in \u001b[0;36m<cell line: 0>\u001b[0;34m()\u001b[0m\n\u001b[1;32m     40\u001b[0m \u001b[0;31m# === Visualisasi hasil training ===\u001b[0m\u001b[0;34m\u001b[0m\u001b[0;34m\u001b[0m\u001b[0m\n\u001b[1;32m     41\u001b[0m \u001b[0mplt\u001b[0m\u001b[0;34m.\u001b[0m\u001b[0mfigure\u001b[0m\u001b[0;34m(\u001b[0m\u001b[0mfigsize\u001b[0m\u001b[0;34m=\u001b[0m\u001b[0;34m(\u001b[0m\u001b[0;36m8\u001b[0m\u001b[0;34m,\u001b[0m\u001b[0;36m5\u001b[0m\u001b[0;34m)\u001b[0m\u001b[0;34m)\u001b[0m\u001b[0;34m\u001b[0m\u001b[0;34m\u001b[0m\u001b[0m\n\u001b[0;32m---> 42\u001b[0;31m \u001b[0mplt\u001b[0m\u001b[0;34m.\u001b[0m\u001b[0mplot\u001b[0m\u001b[0;34m(\u001b[0m\u001b[0mhist10\u001b[0m\u001b[0;34m[\u001b[0m\u001b[0;34m\"epoch\"\u001b[0m\u001b[0;34m]\u001b[0m\u001b[0;34m,\u001b[0m \u001b[0mhist10\u001b[0m\u001b[0;34m[\u001b[0m\u001b[0;34m\"reward\"\u001b[0m\u001b[0;34m]\u001b[0m\u001b[0;34m,\u001b[0m \u001b[0mmarker\u001b[0m\u001b[0;34m=\u001b[0m\u001b[0;34m'o'\u001b[0m\u001b[0;34m,\u001b[0m \u001b[0mlabel\u001b[0m\u001b[0;34m=\u001b[0m\u001b[0;34m\"10 Soal\"\u001b[0m\u001b[0;34m)\u001b[0m\u001b[0;34m\u001b[0m\u001b[0;34m\u001b[0m\u001b[0m\n\u001b[0m\u001b[1;32m     43\u001b[0m \u001b[0mplt\u001b[0m\u001b[0;34m.\u001b[0m\u001b[0mplot\u001b[0m\u001b[0;34m(\u001b[0m\u001b[0mhist15\u001b[0m\u001b[0;34m[\u001b[0m\u001b[0;34m\"epoch\"\u001b[0m\u001b[0;34m]\u001b[0m\u001b[0;34m,\u001b[0m \u001b[0mhist15\u001b[0m\u001b[0;34m[\u001b[0m\u001b[0;34m\"reward\"\u001b[0m\u001b[0;34m]\u001b[0m\u001b[0;34m,\u001b[0m \u001b[0mmarker\u001b[0m\u001b[0;34m=\u001b[0m\u001b[0;34m's'\u001b[0m\u001b[0;34m,\u001b[0m \u001b[0mlabel\u001b[0m\u001b[0;34m=\u001b[0m\u001b[0;34m\"15 Soal\"\u001b[0m\u001b[0;34m)\u001b[0m\u001b[0;34m\u001b[0m\u001b[0;34m\u001b[0m\u001b[0m\n\u001b[1;32m     44\u001b[0m \u001b[0mplt\u001b[0m\u001b[0;34m.\u001b[0m\u001b[0mtitle\u001b[0m\u001b[0;34m(\u001b[0m\u001b[0;34m\"Perbandingan Reward per Epoch\"\u001b[0m\u001b[0;34m,\u001b[0m \u001b[0mfontsize\u001b[0m\u001b[0;34m=\u001b[0m\u001b[0;36m13\u001b[0m\u001b[0;34m,\u001b[0m \u001b[0mweight\u001b[0m\u001b[0;34m=\u001b[0m\u001b[0;34m'bold'\u001b[0m\u001b[0;34m)\u001b[0m\u001b[0;34m\u001b[0m\u001b[0;34m\u001b[0m\u001b[0m\n",
            "\u001b[0;32m/usr/local/lib/python3.12/dist-packages/pandas/core/frame.py\u001b[0m in \u001b[0;36m__getitem__\u001b[0;34m(self, key)\u001b[0m\n\u001b[1;32m   4100\u001b[0m             \u001b[0;32mif\u001b[0m \u001b[0mself\u001b[0m\u001b[0;34m.\u001b[0m\u001b[0mcolumns\u001b[0m\u001b[0;34m.\u001b[0m\u001b[0mnlevels\u001b[0m \u001b[0;34m>\u001b[0m \u001b[0;36m1\u001b[0m\u001b[0;34m:\u001b[0m\u001b[0;34m\u001b[0m\u001b[0;34m\u001b[0m\u001b[0m\n\u001b[1;32m   4101\u001b[0m                 \u001b[0;32mreturn\u001b[0m \u001b[0mself\u001b[0m\u001b[0;34m.\u001b[0m\u001b[0m_getitem_multilevel\u001b[0m\u001b[0;34m(\u001b[0m\u001b[0mkey\u001b[0m\u001b[0;34m)\u001b[0m\u001b[0;34m\u001b[0m\u001b[0;34m\u001b[0m\u001b[0m\n\u001b[0;32m-> 4102\u001b[0;31m             \u001b[0mindexer\u001b[0m \u001b[0;34m=\u001b[0m \u001b[0mself\u001b[0m\u001b[0;34m.\u001b[0m\u001b[0mcolumns\u001b[0m\u001b[0;34m.\u001b[0m\u001b[0mget_loc\u001b[0m\u001b[0;34m(\u001b[0m\u001b[0mkey\u001b[0m\u001b[0;34m)\u001b[0m\u001b[0;34m\u001b[0m\u001b[0;34m\u001b[0m\u001b[0m\n\u001b[0m\u001b[1;32m   4103\u001b[0m             \u001b[0;32mif\u001b[0m \u001b[0mis_integer\u001b[0m\u001b[0;34m(\u001b[0m\u001b[0mindexer\u001b[0m\u001b[0;34m)\u001b[0m\u001b[0;34m:\u001b[0m\u001b[0;34m\u001b[0m\u001b[0;34m\u001b[0m\u001b[0m\n\u001b[1;32m   4104\u001b[0m                 \u001b[0mindexer\u001b[0m \u001b[0;34m=\u001b[0m \u001b[0;34m[\u001b[0m\u001b[0mindexer\u001b[0m\u001b[0;34m]\u001b[0m\u001b[0;34m\u001b[0m\u001b[0;34m\u001b[0m\u001b[0m\n",
            "\u001b[0;32m/usr/local/lib/python3.12/dist-packages/pandas/core/indexes/base.py\u001b[0m in \u001b[0;36mget_loc\u001b[0;34m(self, key)\u001b[0m\n\u001b[1;32m   3810\u001b[0m             ):\n\u001b[1;32m   3811\u001b[0m                 \u001b[0;32mraise\u001b[0m \u001b[0mInvalidIndexError\u001b[0m\u001b[0;34m(\u001b[0m\u001b[0mkey\u001b[0m\u001b[0;34m)\u001b[0m\u001b[0;34m\u001b[0m\u001b[0;34m\u001b[0m\u001b[0m\n\u001b[0;32m-> 3812\u001b[0;31m             \u001b[0;32mraise\u001b[0m \u001b[0mKeyError\u001b[0m\u001b[0;34m(\u001b[0m\u001b[0mkey\u001b[0m\u001b[0;34m)\u001b[0m \u001b[0;32mfrom\u001b[0m \u001b[0merr\u001b[0m\u001b[0;34m\u001b[0m\u001b[0;34m\u001b[0m\u001b[0m\n\u001b[0m\u001b[1;32m   3813\u001b[0m         \u001b[0;32mexcept\u001b[0m \u001b[0mTypeError\u001b[0m\u001b[0;34m:\u001b[0m\u001b[0;34m\u001b[0m\u001b[0;34m\u001b[0m\u001b[0m\n\u001b[1;32m   3814\u001b[0m             \u001b[0;31m# If we have a listlike key, _check_indexing_error will raise\u001b[0m\u001b[0;34m\u001b[0m\u001b[0;34m\u001b[0m\u001b[0m\n",
            "\u001b[0;31mKeyError\u001b[0m: 'reward'"
          ]
        },
        {
          "output_type": "display_data",
          "data": {
            "text/plain": [
              "<Figure size 800x500 with 0 Axes>"
            ]
          },
          "metadata": {}
        }
      ]
    },
    {
      "cell_type": "code",
      "source": [
        "import matplotlib.pyplot as plt\n",
        "\n",
        "# === Visualisasi hasil training ===\n",
        "fig, axes = plt.subplots(2, 1, figsize=(8, 8))  # 2 baris: Reward dan Accuracy\n",
        "\n",
        "# ---- Chart 1: Reward ----\n",
        "axes[0].plot(hist10[\"epoch\"], hist10[\"avg_reward\"], marker='o', label=\"10 Question\")\n",
        "axes[0].plot(hist15[\"epoch\"], hist15[\"avg_reward\"], marker='s', label=\"15 Question\")\n",
        "axes[0].set_title(\"Comparation Reward per Epoch\", fontsize=13, weight='bold')\n",
        "axes[0].set_xlabel(\"Epoch\")\n",
        "axes[0].set_ylabel(\"Average Reward\")\n",
        "axes[0].legend()\n",
        "axes[0].grid(True, linestyle=\"--\", alpha=0.6)\n",
        "\n",
        "# ---- Chart 2: Accuracy ----\n",
        "axes[1].plot(hist10[\"epoch\"], hist10[\"avg_acc\"], marker='o', label=\"10 Question\")\n",
        "axes[1].plot(hist15[\"epoch\"], hist15[\"avg_acc\"], marker='s', label=\"15 Question\")\n",
        "axes[1].set_title(\"Comparation Akurasi per Epoch\", fontsize=13, weight='bold')\n",
        "axes[1].set_xlabel(\"Epoch\")\n",
        "axes[1].set_ylabel(\"Average Accuracy\")\n",
        "axes[1].legend()\n",
        "axes[1].grid(True, linestyle=\"--\", alpha=0.6)\n",
        "\n",
        "plt.tight_layout()\n",
        "plt.show()"
      ],
      "metadata": {
        "colab": {
          "base_uri": "https://localhost:8080/",
          "height": 807
        },
        "id": "OCNzHLbOeSVU",
        "outputId": "0b54188d-2223-4754-af19-020e24bf570a"
      },
      "execution_count": 45,
      "outputs": [
        {
          "output_type": "display_data",
          "data": {
            "text/plain": [
              "<Figure size 800x800 with 2 Axes>"
            ],
            "image/png": "[encoded data removed]"
          },
          "metadata": {}
        }
      ]
    },
    {
      "cell_type": "code",
      "source": [
        "import matplotlib.pyplot as plt\n",
        "\n",
        "# Data simulasi hasil POMDP untuk MCD\n",
        "epochs = [1, 2, 3, 4, 5, 6, 7, 8, 9, 10]\n",
        "\n",
        "# Data untuk 10 soal\n",
        "reward_10 = [5.1, 5.6, 6.0, 6.4, 6.5, 6.8, 7.0, 7.2, 7.3, 7.4]\n",
        "accuracy_10 = [0.60, 0.62, 0.64, 0.66, 0.67, 0.68, 0.69, 0.70, 0.72, 0.73]\n",
        "\n",
        "# Data untuk 15 soal\n",
        "reward_15 = [6.1, 6.5, 6.9, 7.2, 7.4, 7.6, 7.8, 8.0, 8.2, 8.3]\n",
        "accuracy_15 = [0.63, 0.65, 0.67, 0.69, 0.71, 0.73, 0.74, 0.76, 0.78, 0.80]\n",
        "\n",
        "# Visualisasi reward dan akurasi untuk kedua skenario\n",
        "plt.figure(figsize=(8, 10))\n",
        "\n",
        "# Subplot untuk reward\n",
        "plt.subplot(2, 1, 1)\n",
        "plt.plot(epochs, reward_10, marker='o', color='b', label=\"Reward (10 Episode)\")\n",
        "plt.plot(epochs, reward_15, marker='s', color='r', label=\"Reward (15 Episode)\")\n",
        "plt.title(\"Reward per Epoch (10 Episode vs 15 Episode)\")\n",
        "plt.xlabel(\"Epoch\")\n",
        "plt.ylabel(\"Reward\")\n",
        "plt.grid(True)\n",
        "plt.legend()\n",
        "\n",
        "# Subplot untuk akurasi\n",
        "plt.subplot(2, 1, 2)\n",
        "plt.plot(epochs, accuracy_10, marker='o', color='b', label=\"Accuracy (10 Episode)\")\n",
        "plt.plot(epochs, accuracy_15, marker='s', color='r', label=\"Accuracy (15 Episode)\")\n",
        "plt.title(\"Accuracy per Epoch (10 Episode vs 15 Episode)\")\n",
        "plt.xlabel(\"Epoch\")\n",
        "plt.ylabel(\"Accuracy\")\n",
        "plt.grid(True)\n",
        "plt.legend()\n",
        "\n",
        "plt.tight_layout()\n",
        "plt.show()\n"
      ],
      "metadata": {
        "colab": {
          "base_uri": "https://localhost:8080/",
          "height": 1007
        },
        "id": "CmwaGileZm9B",
        "outputId": "da7d3dfd-5b84-4aa2-acd9-93b8031f2a7c"
      },
      "execution_count": 49,
      "outputs": [
        {
          "output_type": "display_data",
          "data": {
            "text/plain": [
              "<Figure size 800x1000 with 2 Axes>"
            ],
            "image/png": "[encoded data removed]"
          },
          "metadata": {}
        }
      ]
    },
    {
      "cell_type": "code",
      "source": [],
      "metadata": {
        "id": "gqhpZjfeeBit"
      },
      "execution_count": null,
      "outputs": []
    }
  ]
}